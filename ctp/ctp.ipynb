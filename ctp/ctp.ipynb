{
 "cells": [
  {
   "cell_type": "markdown",
   "metadata": {},
   "source": [
    "# TP 04 Antoine - HAZEBROUCK - GROUPE M\n",
    "\n",
    "\n",
    "## Étude de cas: la plateforme Netflix\n",
    "\n",
    "Merci de respecter scrupuleusement la structure prédéfinie (et de ne pas en ajouter).\n",
    "\n",
    "Il y a une section par question. Répondez à toutes les sous-questions en créant autant de cellules que vous jugez nécessaires."
   ]
  },
  {
   "cell_type": "code",
   "execution_count": 147,
   "metadata": {},
   "outputs": [],
   "source": [
    "# import nécessaires\n",
    "import pandas as pd\n",
    "import matplotlib.pyplot as plt\n",
    "import seaborn as  sns\n",
    "import numpy as np\n",
    "\n",
    "# définition éventuelle des chemins nécessaires --> on ne doit plus trouver de chemin écrit en \"dur\" au delà de cette section ! Tous doivent faire référence à ce chemin.\n",
    "chemin = './netflix_titles.csv'"
   ]
  },
  {
   "cell_type": "markdown",
   "metadata": {},
   "source": [
    "### Q1: Lisez le fichier"
   ]
  },
  {
   "cell_type": "code",
   "execution_count": 148,
   "metadata": {},
   "outputs": [],
   "source": [
    "netflix = pd.read_csv(chemin)"
   ]
  },
  {
   "cell_type": "markdown",
   "metadata": {},
   "source": [
    "### Q2: Affichez les dimensions du dataframe"
   ]
  },
  {
   "cell_type": "code",
   "execution_count": 149,
   "metadata": {},
   "outputs": [
    {
     "data": {
      "text/plain": [
       "(8807, 12)"
      ]
     },
     "execution_count": 149,
     "metadata": {},
     "output_type": "execute_result"
    }
   ],
   "source": [
    "netflix.shape"
   ]
  },
  {
   "cell_type": "markdown",
   "metadata": {},
   "source": [
    "### Q3: Comptez les films et les séries"
   ]
  },
  {
   "cell_type": "code",
   "execution_count": 150,
   "metadata": {},
   "outputs": [
    {
     "data": {
      "text/plain": [
       "type\n",
       "Movie      6131\n",
       "TV Show    2676\n",
       "Name: type, dtype: int64"
      ]
     },
     "execution_count": 150,
     "metadata": {},
     "output_type": "execute_result"
    }
   ],
   "source": [
    "netflix.groupby('type')['type'].count()"
   ]
  },
  {
   "cell_type": "markdown",
   "metadata": {},
   "source": [
    "### Q4: Générez le résumé statistique du dataframe"
   ]
  },
  {
   "cell_type": "code",
   "execution_count": 151,
   "metadata": {},
   "outputs": [
    {
     "data": {
      "text/plain": [
       "2818"
      ]
     },
     "execution_count": 151,
     "metadata": {},
     "output_type": "execute_result"
    }
   ],
   "source": [
    "netflix.describe(include='all')\n",
    "\n",
    "# Q1\n",
    "\n",
    "# Q2\n",
    "# 8807 - 8807 = 0\n",
    "\n",
    "# Q3\n",
    "# 4528\n",
    "\n",
    "# Q4\n",
    "# 748\n",
    "\n",
    "# Q5\n",
    "netflix.groupby('country')['country'].count().max()\n",
    "# 2818"
   ]
  },
  {
   "cell_type": "markdown",
   "metadata": {},
   "source": [
    "### Q5: les valeurs manquantes"
   ]
  },
  {
   "cell_type": "code",
   "execution_count": 152,
   "metadata": {},
   "outputs": [
    {
     "data": {
      "text/plain": [
       "show_id            0\n",
       "type               0\n",
       "title              0\n",
       "director        2634\n",
       "cast             825\n",
       "country          831\n",
       "date_added        10\n",
       "release_year       0\n",
       "rating             4\n",
       "duration           3\n",
       "listed_in          0\n",
       "description        0\n",
       "dtype: int64"
      ]
     },
     "execution_count": 152,
     "metadata": {},
     "output_type": "execute_result"
    }
   ],
   "source": [
    "netflix.isnull().sum()"
   ]
  },
  {
   "cell_type": "markdown",
   "metadata": {},
   "source": [
    "### Q6: Les lignes dupliquées"
   ]
  },
  {
   "cell_type": "code",
   "execution_count": 153,
   "metadata": {},
   "outputs": [],
   "source": [
    "netflix.duplicated().sum()\n",
    "\n",
    "\n",
    "netflix = netflix.drop_duplicates(keep='first')"
   ]
  },
  {
   "cell_type": "markdown",
   "metadata": {},
   "source": [
    "### Q7: Regardons les pays d'origine."
   ]
  },
  {
   "cell_type": "code",
   "execution_count": 167,
   "metadata": {},
   "outputs": [
    {
     "name": "stdout",
     "output_type": "stream",
     "text": [
      "us =  3690\n",
      "fr =  393\n"
     ]
    }
   ],
   "source": [
    "fr = netflix.loc[(netflix['country'].notnull()) & (netflix['country'].str.find('France') != -1)].count()['title']\n",
    "us = netflix.loc[(netflix['country'].notnull()) & (netflix['country'].str.find('United States') != -1)].count()['title']\n",
    "\n",
    "print('us = ', us)\n",
    "print('fr = ', fr)"
   ]
  },
  {
   "cell_type": "code",
   "execution_count": 155,
   "metadata": {},
   "outputs": [
    {
     "data": {
      "text/plain": [
       "country\n",
       "United States     2818\n",
       "India              972\n",
       "United Kingdom     419\n",
       "Japan              245\n",
       "South Korea        199\n",
       "Canada             181\n",
       "Spain              145\n",
       "France             124\n",
       "Mexico             110\n",
       "Egypt              106\n",
       "Name: country, dtype: int64"
      ]
     },
     "execution_count": 155,
     "metadata": {},
     "output_type": "execute_result"
    }
   ],
   "source": [
    "# il faudrait gerer les irregularité ici comme au dessus\n",
    "netflix.groupby('country')['country'].count().sort_values(ascending=False).head(10)"
   ]
  },
  {
   "cell_type": "markdown",
   "metadata": {},
   "source": [
    "### Q8: Regardons la durée des films."
   ]
  },
  {
   "cell_type": "code",
   "execution_count": 165,
   "metadata": {},
   "outputs": [
    {
     "data": {
      "text/html": [
       "<div>\n",
       "<style scoped>\n",
       "    .dataframe tbody tr th:only-of-type {\n",
       "        vertical-align: middle;\n",
       "    }\n",
       "\n",
       "    .dataframe tbody tr th {\n",
       "        vertical-align: top;\n",
       "    }\n",
       "\n",
       "    .dataframe thead th {\n",
       "        text-align: right;\n",
       "    }\n",
       "</style>\n",
       "<table border=\"1\" class=\"dataframe\">\n",
       "  <thead>\n",
       "    <tr style=\"text-align: right;\">\n",
       "      <th></th>\n",
       "      <th>show_id</th>\n",
       "      <th>type</th>\n",
       "      <th>title</th>\n",
       "      <th>director</th>\n",
       "      <th>cast</th>\n",
       "      <th>country</th>\n",
       "      <th>date_added</th>\n",
       "      <th>release_year</th>\n",
       "      <th>rating</th>\n",
       "      <th>duration</th>\n",
       "      <th>listed_in</th>\n",
       "      <th>description</th>\n",
       "      <th>duration_min</th>\n",
       "    </tr>\n",
       "  </thead>\n",
       "  <tbody>\n",
       "    <tr>\n",
       "      <th>4253</th>\n",
       "      <td>s4254</td>\n",
       "      <td>Movie</td>\n",
       "      <td>Black Mirror: Bandersnatch</td>\n",
       "      <td>NaN</td>\n",
       "      <td>Fionn Whitehead, Will Poulter, Craig Parkinson...</td>\n",
       "      <td>United States</td>\n",
       "      <td>December 28, 2018</td>\n",
       "      <td>2018</td>\n",
       "      <td>TV-MA</td>\n",
       "      <td>312 min</td>\n",
       "      <td>Dramas, International Movies, Sci-Fi &amp; Fantasy</td>\n",
       "      <td>In 1984, a young programmer begins to question...</td>\n",
       "      <td>312</td>\n",
       "    </tr>\n",
       "  </tbody>\n",
       "</table>\n",
       "</div>"
      ],
      "text/plain": [
       "     show_id   type                       title director  \\\n",
       "4253   s4254  Movie  Black Mirror: Bandersnatch      NaN   \n",
       "\n",
       "                                                   cast        country  \\\n",
       "4253  Fionn Whitehead, Will Poulter, Craig Parkinson...  United States   \n",
       "\n",
       "             date_added  release_year rating duration  \\\n",
       "4253  December 28, 2018          2018  TV-MA  312 min   \n",
       "\n",
       "                                           listed_in  \\\n",
       "4253  Dramas, International Movies, Sci-Fi & Fantasy   \n",
       "\n",
       "                                            description  duration_min  \n",
       "4253  In 1984, a young programmer begins to question...           312  "
      ]
     },
     "execution_count": 165,
     "metadata": {},
     "output_type": "execute_result"
    }
   ],
   "source": [
    "netflix['duration_min'] = netflix['duration'].str.split(' ', expand=True)[0].astype('Int64')\n",
    "\n",
    "films = netflix.groupby('type').get_group('Movie')\n",
    "\n",
    "films.sort_values(ascending=False, by='duration_min').head(1)"
   ]
  },
  {
   "cell_type": "code",
   "execution_count": 170,
   "metadata": {},
   "outputs": [
    {
     "data": {
      "text/html": [
       "<div>\n",
       "<style scoped>\n",
       "    .dataframe tbody tr th:only-of-type {\n",
       "        vertical-align: middle;\n",
       "    }\n",
       "\n",
       "    .dataframe tbody tr th {\n",
       "        vertical-align: top;\n",
       "    }\n",
       "\n",
       "    .dataframe thead th {\n",
       "        text-align: right;\n",
       "    }\n",
       "</style>\n",
       "<table border=\"1\" class=\"dataframe\">\n",
       "  <thead>\n",
       "    <tr style=\"text-align: right;\">\n",
       "      <th></th>\n",
       "      <th>show_id</th>\n",
       "      <th>type</th>\n",
       "      <th>title</th>\n",
       "      <th>director</th>\n",
       "      <th>cast</th>\n",
       "      <th>country</th>\n",
       "      <th>date_added</th>\n",
       "      <th>release_year</th>\n",
       "      <th>rating</th>\n",
       "      <th>duration</th>\n",
       "      <th>listed_in</th>\n",
       "      <th>description</th>\n",
       "      <th>duration_min</th>\n",
       "    </tr>\n",
       "  </thead>\n",
       "  <tbody>\n",
       "    <tr>\n",
       "      <th>2843</th>\n",
       "      <td>s2844</td>\n",
       "      <td>Movie</td>\n",
       "      <td>Aurora</td>\n",
       "      <td>Cristi Puiu</td>\n",
       "      <td>Cristi Puiu, Clara Voda, Catrinel Dumitrescu, ...</td>\n",
       "      <td>Romania, France, Switzerland, Germany</td>\n",
       "      <td>March 4, 2020</td>\n",
       "      <td>2010</td>\n",
       "      <td>TV-MA</td>\n",
       "      <td>186 min</td>\n",
       "      <td>Dramas, International Movies</td>\n",
       "      <td>42-year-old Viorel, a distraught engineer, tak...</td>\n",
       "      <td>186</td>\n",
       "    </tr>\n",
       "    <tr>\n",
       "      <th>6338</th>\n",
       "      <td>s6339</td>\n",
       "      <td>Movie</td>\n",
       "      <td>Blue Is the Warmest Color</td>\n",
       "      <td>Abdellatif Kechiche</td>\n",
       "      <td>Léa Seydoux, Adèle Exarchopoulos, Salim Kechio...</td>\n",
       "      <td>France, Belgium, Spain</td>\n",
       "      <td>August 26, 2016</td>\n",
       "      <td>2013</td>\n",
       "      <td>NC-17</td>\n",
       "      <td>180 min</td>\n",
       "      <td>Dramas, Independent Movies, International Movies</td>\n",
       "      <td>Determined to fall in love, 15-year-old Adele ...</td>\n",
       "      <td>180</td>\n",
       "    </tr>\n",
       "    <tr>\n",
       "      <th>1624</th>\n",
       "      <td>s1625</td>\n",
       "      <td>Movie</td>\n",
       "      <td>The Da Vinci Code</td>\n",
       "      <td>Ron Howard</td>\n",
       "      <td>Tom Hanks, Audrey Tautou, Ian McKellen, Jean R...</td>\n",
       "      <td>United States, Malta, France, United Kingdom</td>\n",
       "      <td>December 1, 2020</td>\n",
       "      <td>2006</td>\n",
       "      <td>PG-13</td>\n",
       "      <td>149 min</td>\n",
       "      <td>Thrillers</td>\n",
       "      <td>When the curator of the Louvre is killed, a Ha...</td>\n",
       "      <td>149</td>\n",
       "    </tr>\n",
       "    <tr>\n",
       "      <th>1138</th>\n",
       "      <td>s1139</td>\n",
       "      <td>Movie</td>\n",
       "      <td>The Pianist</td>\n",
       "      <td>Roman Polański</td>\n",
       "      <td>Adrien Brody, Thomas Kretschmann, Frank Finlay...</td>\n",
       "      <td>United Kingdom, France, Poland, Germany, Unite...</td>\n",
       "      <td>April 1, 2021</td>\n",
       "      <td>2002</td>\n",
       "      <td>R</td>\n",
       "      <td>149 min</td>\n",
       "      <td>Dramas, Independent Movies, International Movies</td>\n",
       "      <td>Famed Polish pianist Wladyslaw Szpilman strugg...</td>\n",
       "      <td>149</td>\n",
       "    </tr>\n",
       "    <tr>\n",
       "      <th>1728</th>\n",
       "      <td>s1729</td>\n",
       "      <td>Movie</td>\n",
       "      <td>The Endless Trench</td>\n",
       "      <td>Aitor Arregi, Jon Garaño, Jose Mari Goenaga</td>\n",
       "      <td>Antonio de la Torre, Belén Cuesta, Vicente Ver...</td>\n",
       "      <td>Spain, France, Canada</td>\n",
       "      <td>November 6, 2020</td>\n",
       "      <td>2019</td>\n",
       "      <td>TV-MA</td>\n",
       "      <td>148 min</td>\n",
       "      <td>Dramas, Independent Movies, International Movies</td>\n",
       "      <td>Fearing retribution, a Republican from the Spa...</td>\n",
       "      <td>148</td>\n",
       "    </tr>\n",
       "    <tr>\n",
       "      <th>578</th>\n",
       "      <td>s579</td>\n",
       "      <td>Movie</td>\n",
       "      <td>Memoirs of a Geisha</td>\n",
       "      <td>Rob Marshall</td>\n",
       "      <td>Zhang Ziyi, Ken Watanabe, Koji Yakusho, Michel...</td>\n",
       "      <td>France, Japan, United States</td>\n",
       "      <td>July 1, 2021</td>\n",
       "      <td>2005</td>\n",
       "      <td>PG-13</td>\n",
       "      <td>145 min</td>\n",
       "      <td>Dramas, Romantic Movies</td>\n",
       "      <td>Sold to a geisha house as a child, a fisherman...</td>\n",
       "      <td>145</td>\n",
       "    </tr>\n",
       "    <tr>\n",
       "      <th>6205</th>\n",
       "      <td>s6206</td>\n",
       "      <td>Movie</td>\n",
       "      <td>Babel</td>\n",
       "      <td>Alejandro G. Iñárritu</td>\n",
       "      <td>Brad Pitt, Cate Blanchett, Gael García Bernal,...</td>\n",
       "      <td>France, United States, Mexico</td>\n",
       "      <td>January 1, 2019</td>\n",
       "      <td>2006</td>\n",
       "      <td>R</td>\n",
       "      <td>143 min</td>\n",
       "      <td>Dramas, Independent Movies</td>\n",
       "      <td>When an American couple vacationing in Morocco...</td>\n",
       "      <td>143</td>\n",
       "    </tr>\n",
       "    <tr>\n",
       "      <th>1153</th>\n",
       "      <td>s1154</td>\n",
       "      <td>Movie</td>\n",
       "      <td>Mandela: Long Walk to Freedom</td>\n",
       "      <td>Justin Chadwick</td>\n",
       "      <td>Idris Elba, Naomie Harris, Tony Kgoroge, Riaad...</td>\n",
       "      <td>United Kingdom, South Africa, France</td>\n",
       "      <td>March 29, 2021</td>\n",
       "      <td>2013</td>\n",
       "      <td>PG-13</td>\n",
       "      <td>141 min</td>\n",
       "      <td>Dramas, International Movies</td>\n",
       "      <td>This in-depth biopic portrays groundbreaking S...</td>\n",
       "      <td>141</td>\n",
       "    </tr>\n",
       "    <tr>\n",
       "      <th>2354</th>\n",
       "      <td>s2355</td>\n",
       "      <td>Movie</td>\n",
       "      <td>Destiny</td>\n",
       "      <td>Youssef Chahine</td>\n",
       "      <td>Nour El-Sherif, Laila Elwi, Mahmoud Hemeida, S...</td>\n",
       "      <td>France, Egypt</td>\n",
       "      <td>June 19, 2020</td>\n",
       "      <td>1997</td>\n",
       "      <td>TV-14</td>\n",
       "      <td>136 min</td>\n",
       "      <td>Dramas, International Movies</td>\n",
       "      <td>In 12th-century Spain, a philosopher and his p...</td>\n",
       "      <td>136</td>\n",
       "    </tr>\n",
       "    <tr>\n",
       "      <th>8112</th>\n",
       "      <td>s8113</td>\n",
       "      <td>Movie</td>\n",
       "      <td>Suburra</td>\n",
       "      <td>Stefano Sollima</td>\n",
       "      <td>Pierfrancesco Favino, Elio Germano, Claudio Am...</td>\n",
       "      <td>Italy, France</td>\n",
       "      <td>October 14, 2015</td>\n",
       "      <td>2015</td>\n",
       "      <td>NR</td>\n",
       "      <td>135 min</td>\n",
       "      <td>Dramas, International Movies, Thrillers</td>\n",
       "      <td>A grueling battle over turning a seaside town ...</td>\n",
       "      <td>135</td>\n",
       "    </tr>\n",
       "    <tr>\n",
       "      <th>1764</th>\n",
       "      <td>s1765</td>\n",
       "      <td>Movie</td>\n",
       "      <td>Snowden</td>\n",
       "      <td>Oliver Stone</td>\n",
       "      <td>Joseph Gordon-Levitt, Shailene Woodley, Zachar...</td>\n",
       "      <td>United Kingdom, France, Germany, United States</td>\n",
       "      <td>November 1, 2020</td>\n",
       "      <td>2016</td>\n",
       "      <td>R</td>\n",
       "      <td>134 min</td>\n",
       "      <td>Dramas, Thrillers</td>\n",
       "      <td>This thriller traces Edward Snowden's journey ...</td>\n",
       "      <td>134</td>\n",
       "    </tr>\n",
       "    <tr>\n",
       "      <th>7746</th>\n",
       "      <td>s7747</td>\n",
       "      <td>Movie</td>\n",
       "      <td>Plaire, aimer et courir vite</td>\n",
       "      <td>Christophe Honoré</td>\n",
       "      <td>Vincent Lacoste, Pierre Deladonchamps, Denis P...</td>\n",
       "      <td>France</td>\n",
       "      <td>July 13, 2019</td>\n",
       "      <td>2018</td>\n",
       "      <td>TV-MA</td>\n",
       "      <td>133 min</td>\n",
       "      <td>Dramas, Independent Movies, International Movies</td>\n",
       "      <td>When a Paris-based writer with AIDS meets a co...</td>\n",
       "      <td>133</td>\n",
       "    </tr>\n",
       "    <tr>\n",
       "      <th>1387</th>\n",
       "      <td>s1388</td>\n",
       "      <td>Movie</td>\n",
       "      <td>The Next Three Days</td>\n",
       "      <td>Paul Haggis</td>\n",
       "      <td>Russell Crowe, Elizabeth Banks, Brian Dennehy,...</td>\n",
       "      <td>United States, France</td>\n",
       "      <td>January 22, 2021</td>\n",
       "      <td>2010</td>\n",
       "      <td>PG-13</td>\n",
       "      <td>133 min</td>\n",
       "      <td>Dramas, Thrillers</td>\n",
       "      <td>When his wife becomes a murder suspect and is ...</td>\n",
       "      <td>133</td>\n",
       "    </tr>\n",
       "    <tr>\n",
       "      <th>6713</th>\n",
       "      <td>s6714</td>\n",
       "      <td>Movie</td>\n",
       "      <td>Everybody Knows</td>\n",
       "      <td>Asghar Farhadi</td>\n",
       "      <td>Penélope Cruz, Javier Bardem, Ricardo Darín, E...</td>\n",
       "      <td>Spain, France, Italy</td>\n",
       "      <td>June 6, 2019</td>\n",
       "      <td>2019</td>\n",
       "      <td>R</td>\n",
       "      <td>133 min</td>\n",
       "      <td>Dramas, International Movies, Thrillers</td>\n",
       "      <td>Journeying back to her small Spanish hometown ...</td>\n",
       "      <td>133</td>\n",
       "    </tr>\n",
       "    <tr>\n",
       "      <th>1013</th>\n",
       "      <td>s1014</td>\n",
       "      <td>Movie</td>\n",
       "      <td>Miss Sloane</td>\n",
       "      <td>John Madden</td>\n",
       "      <td>Jessica Chastain, Mark Strong, Gugu Mbatha-Raw...</td>\n",
       "      <td>France, United States, United Kingdom, Canada</td>\n",
       "      <td>April 19, 2021</td>\n",
       "      <td>2016</td>\n",
       "      <td>R</td>\n",
       "      <td>132 min</td>\n",
       "      <td>Thrillers</td>\n",
       "      <td>A tenacious Capitol Hill lobbyist with a well-...</td>\n",
       "      <td>132</td>\n",
       "    </tr>\n",
       "    <tr>\n",
       "      <th>3018</th>\n",
       "      <td>s3019</td>\n",
       "      <td>Movie</td>\n",
       "      <td>Legend</td>\n",
       "      <td>Brian Helgeland</td>\n",
       "      <td>Tom Hardy, Emily Browning, David Thewlis, Duff...</td>\n",
       "      <td>United Kingdom, France, United States</td>\n",
       "      <td>January 16, 2020</td>\n",
       "      <td>2015</td>\n",
       "      <td>R</td>\n",
       "      <td>132 min</td>\n",
       "      <td>Dramas, International Movies, Thrillers</td>\n",
       "      <td>Identical twins and notorious gangsters Reggie...</td>\n",
       "      <td>132</td>\n",
       "    </tr>\n",
       "    <tr>\n",
       "      <th>6819</th>\n",
       "      <td>s6820</td>\n",
       "      <td>Movie</td>\n",
       "      <td>Gabriel and the Mountain</td>\n",
       "      <td>Fellipe Barbosa</td>\n",
       "      <td>João Pedro Zappa, Caroline Abras, Alex Alembe,...</td>\n",
       "      <td>Brazil, France</td>\n",
       "      <td>November 9, 2018</td>\n",
       "      <td>2017</td>\n",
       "      <td>TV-MA</td>\n",
       "      <td>132 min</td>\n",
       "      <td>Dramas, Independent Movies, International Movies</td>\n",
       "      <td>In a drama based on a true story, Brazilian ba...</td>\n",
       "      <td>132</td>\n",
       "    </tr>\n",
       "    <tr>\n",
       "      <th>6488</th>\n",
       "      <td>s6489</td>\n",
       "      <td>Movie</td>\n",
       "      <td>City of God</td>\n",
       "      <td>Fernando Meirelles, Katia Lund</td>\n",
       "      <td>Alexandre Rodrigues, Leandro Firmino, Phellipe...</td>\n",
       "      <td>Brazil, France, Germany</td>\n",
       "      <td>January 1, 2020</td>\n",
       "      <td>2002</td>\n",
       "      <td>R</td>\n",
       "      <td>130 min</td>\n",
       "      <td>Dramas, Independent Movies, International Movies</td>\n",
       "      <td>Growing up in a Rio de Janeiro slum, Rocket is...</td>\n",
       "      <td>130</td>\n",
       "    </tr>\n",
       "    <tr>\n",
       "      <th>7465</th>\n",
       "      <td>s7466</td>\n",
       "      <td>Movie</td>\n",
       "      <td>Miss Julie</td>\n",
       "      <td>Liv Ullmann</td>\n",
       "      <td>Jessica Chastain, Colin Farrell, Samantha Mort...</td>\n",
       "      <td>Norway, United Kingdom, France, Ireland</td>\n",
       "      <td>September 2, 2015</td>\n",
       "      <td>2014</td>\n",
       "      <td>PG-13</td>\n",
       "      <td>130 min</td>\n",
       "      <td>Dramas, International Movies</td>\n",
       "      <td>On a summer night in 1890 Ireland, the unsettl...</td>\n",
       "      <td>130</td>\n",
       "    </tr>\n",
       "    <tr>\n",
       "      <th>2361</th>\n",
       "      <td>s2362</td>\n",
       "      <td>Movie</td>\n",
       "      <td>The Emigrant</td>\n",
       "      <td>Youssef Chahine</td>\n",
       "      <td>Khaled El Nabawy, Hanan Turk, Yousra, Mahmoud ...</td>\n",
       "      <td>Egypt, France</td>\n",
       "      <td>June 19, 2020</td>\n",
       "      <td>1994</td>\n",
       "      <td>TV-14</td>\n",
       "      <td>130 min</td>\n",
       "      <td>Dramas, International Movies</td>\n",
       "      <td>Ram leaves the nomadic life and embarks on a q...</td>\n",
       "      <td>130</td>\n",
       "    </tr>\n",
       "  </tbody>\n",
       "</table>\n",
       "</div>"
      ],
      "text/plain": [
       "     show_id   type                          title  \\\n",
       "2843   s2844  Movie                         Aurora   \n",
       "6338   s6339  Movie      Blue Is the Warmest Color   \n",
       "1624   s1625  Movie              The Da Vinci Code   \n",
       "1138   s1139  Movie                    The Pianist   \n",
       "1728   s1729  Movie             The Endless Trench   \n",
       "578     s579  Movie            Memoirs of a Geisha   \n",
       "6205   s6206  Movie                          Babel   \n",
       "1153   s1154  Movie  Mandela: Long Walk to Freedom   \n",
       "2354   s2355  Movie                        Destiny   \n",
       "8112   s8113  Movie                        Suburra   \n",
       "1764   s1765  Movie                        Snowden   \n",
       "7746   s7747  Movie   Plaire, aimer et courir vite   \n",
       "1387   s1388  Movie            The Next Three Days   \n",
       "6713   s6714  Movie                Everybody Knows   \n",
       "1013   s1014  Movie                    Miss Sloane   \n",
       "3018   s3019  Movie                         Legend   \n",
       "6819   s6820  Movie       Gabriel and the Mountain   \n",
       "6488   s6489  Movie                    City of God   \n",
       "7465   s7466  Movie                     Miss Julie   \n",
       "2361   s2362  Movie                   The Emigrant   \n",
       "\n",
       "                                         director  \\\n",
       "2843                                  Cristi Puiu   \n",
       "6338                          Abdellatif Kechiche   \n",
       "1624                                   Ron Howard   \n",
       "1138                               Roman Polański   \n",
       "1728  Aitor Arregi, Jon Garaño, Jose Mari Goenaga   \n",
       "578                                  Rob Marshall   \n",
       "6205                        Alejandro G. Iñárritu   \n",
       "1153                              Justin Chadwick   \n",
       "2354                              Youssef Chahine   \n",
       "8112                              Stefano Sollima   \n",
       "1764                                 Oliver Stone   \n",
       "7746                            Christophe Honoré   \n",
       "1387                                  Paul Haggis   \n",
       "6713                               Asghar Farhadi   \n",
       "1013                                  John Madden   \n",
       "3018                              Brian Helgeland   \n",
       "6819                              Fellipe Barbosa   \n",
       "6488               Fernando Meirelles, Katia Lund   \n",
       "7465                                  Liv Ullmann   \n",
       "2361                              Youssef Chahine   \n",
       "\n",
       "                                                   cast  \\\n",
       "2843  Cristi Puiu, Clara Voda, Catrinel Dumitrescu, ...   \n",
       "6338  Léa Seydoux, Adèle Exarchopoulos, Salim Kechio...   \n",
       "1624  Tom Hanks, Audrey Tautou, Ian McKellen, Jean R...   \n",
       "1138  Adrien Brody, Thomas Kretschmann, Frank Finlay...   \n",
       "1728  Antonio de la Torre, Belén Cuesta, Vicente Ver...   \n",
       "578   Zhang Ziyi, Ken Watanabe, Koji Yakusho, Michel...   \n",
       "6205  Brad Pitt, Cate Blanchett, Gael García Bernal,...   \n",
       "1153  Idris Elba, Naomie Harris, Tony Kgoroge, Riaad...   \n",
       "2354  Nour El-Sherif, Laila Elwi, Mahmoud Hemeida, S...   \n",
       "8112  Pierfrancesco Favino, Elio Germano, Claudio Am...   \n",
       "1764  Joseph Gordon-Levitt, Shailene Woodley, Zachar...   \n",
       "7746  Vincent Lacoste, Pierre Deladonchamps, Denis P...   \n",
       "1387  Russell Crowe, Elizabeth Banks, Brian Dennehy,...   \n",
       "6713  Penélope Cruz, Javier Bardem, Ricardo Darín, E...   \n",
       "1013  Jessica Chastain, Mark Strong, Gugu Mbatha-Raw...   \n",
       "3018  Tom Hardy, Emily Browning, David Thewlis, Duff...   \n",
       "6819  João Pedro Zappa, Caroline Abras, Alex Alembe,...   \n",
       "6488  Alexandre Rodrigues, Leandro Firmino, Phellipe...   \n",
       "7465  Jessica Chastain, Colin Farrell, Samantha Mort...   \n",
       "2361  Khaled El Nabawy, Hanan Turk, Yousra, Mahmoud ...   \n",
       "\n",
       "                                                country         date_added  \\\n",
       "2843              Romania, France, Switzerland, Germany      March 4, 2020   \n",
       "6338                             France, Belgium, Spain    August 26, 2016   \n",
       "1624       United States, Malta, France, United Kingdom   December 1, 2020   \n",
       "1138  United Kingdom, France, Poland, Germany, Unite...      April 1, 2021   \n",
       "1728                              Spain, France, Canada   November 6, 2020   \n",
       "578                        France, Japan, United States       July 1, 2021   \n",
       "6205                      France, United States, Mexico    January 1, 2019   \n",
       "1153               United Kingdom, South Africa, France     March 29, 2021   \n",
       "2354                                      France, Egypt      June 19, 2020   \n",
       "8112                                      Italy, France   October 14, 2015   \n",
       "1764     United Kingdom, France, Germany, United States   November 1, 2020   \n",
       "7746                                             France      July 13, 2019   \n",
       "1387                              United States, France   January 22, 2021   \n",
       "6713                               Spain, France, Italy       June 6, 2019   \n",
       "1013      France, United States, United Kingdom, Canada     April 19, 2021   \n",
       "3018              United Kingdom, France, United States   January 16, 2020   \n",
       "6819                                     Brazil, France   November 9, 2018   \n",
       "6488                            Brazil, France, Germany    January 1, 2020   \n",
       "7465            Norway, United Kingdom, France, Ireland  September 2, 2015   \n",
       "2361                                      Egypt, France      June 19, 2020   \n",
       "\n",
       "      release_year rating duration  \\\n",
       "2843          2010  TV-MA  186 min   \n",
       "6338          2013  NC-17  180 min   \n",
       "1624          2006  PG-13  149 min   \n",
       "1138          2002      R  149 min   \n",
       "1728          2019  TV-MA  148 min   \n",
       "578           2005  PG-13  145 min   \n",
       "6205          2006      R  143 min   \n",
       "1153          2013  PG-13  141 min   \n",
       "2354          1997  TV-14  136 min   \n",
       "8112          2015     NR  135 min   \n",
       "1764          2016      R  134 min   \n",
       "7746          2018  TV-MA  133 min   \n",
       "1387          2010  PG-13  133 min   \n",
       "6713          2019      R  133 min   \n",
       "1013          2016      R  132 min   \n",
       "3018          2015      R  132 min   \n",
       "6819          2017  TV-MA  132 min   \n",
       "6488          2002      R  130 min   \n",
       "7465          2014  PG-13  130 min   \n",
       "2361          1994  TV-14  130 min   \n",
       "\n",
       "                                             listed_in  \\\n",
       "2843                      Dramas, International Movies   \n",
       "6338  Dramas, Independent Movies, International Movies   \n",
       "1624                                         Thrillers   \n",
       "1138  Dramas, Independent Movies, International Movies   \n",
       "1728  Dramas, Independent Movies, International Movies   \n",
       "578                            Dramas, Romantic Movies   \n",
       "6205                        Dramas, Independent Movies   \n",
       "1153                      Dramas, International Movies   \n",
       "2354                      Dramas, International Movies   \n",
       "8112           Dramas, International Movies, Thrillers   \n",
       "1764                                 Dramas, Thrillers   \n",
       "7746  Dramas, Independent Movies, International Movies   \n",
       "1387                                 Dramas, Thrillers   \n",
       "6713           Dramas, International Movies, Thrillers   \n",
       "1013                                         Thrillers   \n",
       "3018           Dramas, International Movies, Thrillers   \n",
       "6819  Dramas, Independent Movies, International Movies   \n",
       "6488  Dramas, Independent Movies, International Movies   \n",
       "7465                      Dramas, International Movies   \n",
       "2361                      Dramas, International Movies   \n",
       "\n",
       "                                            description  duration_min  \n",
       "2843  42-year-old Viorel, a distraught engineer, tak...           186  \n",
       "6338  Determined to fall in love, 15-year-old Adele ...           180  \n",
       "1624  When the curator of the Louvre is killed, a Ha...           149  \n",
       "1138  Famed Polish pianist Wladyslaw Szpilman strugg...           149  \n",
       "1728  Fearing retribution, a Republican from the Spa...           148  \n",
       "578   Sold to a geisha house as a child, a fisherman...           145  \n",
       "6205  When an American couple vacationing in Morocco...           143  \n",
       "1153  This in-depth biopic portrays groundbreaking S...           141  \n",
       "2354  In 12th-century Spain, a philosopher and his p...           136  \n",
       "8112  A grueling battle over turning a seaside town ...           135  \n",
       "1764  This thriller traces Edward Snowden's journey ...           134  \n",
       "7746  When a Paris-based writer with AIDS meets a co...           133  \n",
       "1387  When his wife becomes a murder suspect and is ...           133  \n",
       "6713  Journeying back to her small Spanish hometown ...           133  \n",
       "1013  A tenacious Capitol Hill lobbyist with a well-...           132  \n",
       "3018  Identical twins and notorious gangsters Reggie...           132  \n",
       "6819  In a drama based on a true story, Brazilian ba...           132  \n",
       "6488  Growing up in a Rio de Janeiro slum, Rocket is...           130  \n",
       "7465  On a summer night in 1890 Ireland, the unsettl...           130  \n",
       "2361  Ram leaves the nomadic life and embarks on a q...           130  "
      ]
     },
     "execution_count": 170,
     "metadata": {},
     "output_type": "execute_result"
    }
   ],
   "source": [
    "# les series ont supposement moins de saisons que de minutes dans un films, on laisse ce cas de coté\n",
    "films_francais = netflix.loc[(netflix['country'].notnull()) & (netflix['country'].str.find('France') != -1)]\n",
    "\n",
    "films_francais.sort_values(ascending=False, by='duration_min').head(10)"
   ]
  },
  {
   "cell_type": "markdown",
   "metadata": {},
   "source": [
    "### Q9: Quel sont les titres de film français les plus long et quels est leur longueur ?"
   ]
  },
  {
   "cell_type": "code",
   "execution_count": 174,
   "metadata": {},
   "outputs": [
    {
     "name": "stderr",
     "output_type": "stream",
     "text": [
      "C:\\Users\\Jez\\AppData\\Local\\Temp\\ipykernel_9480\\212267436.py:1: SettingWithCopyWarning: \n",
      "A value is trying to be set on a copy of a slice from a DataFrame.\n",
      "Try using .loc[row_indexer,col_indexer] = value instead\n",
      "\n",
      "See the caveats in the documentation: https://pandas.pydata.org/pandas-docs/stable/user_guide/indexing.html#returning-a-view-versus-a-copy\n",
      "  films_francais['len_title'] = films_francais['title'].str.len()\n"
     ]
    },
    {
     "data": {
      "text/html": [
       "<div>\n",
       "<style scoped>\n",
       "    .dataframe tbody tr th:only-of-type {\n",
       "        vertical-align: middle;\n",
       "    }\n",
       "\n",
       "    .dataframe tbody tr th {\n",
       "        vertical-align: top;\n",
       "    }\n",
       "\n",
       "    .dataframe thead th {\n",
       "        text-align: right;\n",
       "    }\n",
       "</style>\n",
       "<table border=\"1\" class=\"dataframe\">\n",
       "  <thead>\n",
       "    <tr style=\"text-align: right;\">\n",
       "      <th></th>\n",
       "      <th>title</th>\n",
       "      <th>len_title</th>\n",
       "    </tr>\n",
       "  </thead>\n",
       "  <tbody>\n",
       "    <tr>\n",
       "      <th>5659</th>\n",
       "      <td>A Christmas Special: Miraculous: Tales of Lady...</td>\n",
       "      <td>60</td>\n",
       "    </tr>\n",
       "    <tr>\n",
       "      <th>7293</th>\n",
       "      <td>Les Bleus - Une autre histoire de France, 1996...</td>\n",
       "      <td>51</td>\n",
       "    </tr>\n",
       "    <tr>\n",
       "      <th>4705</th>\n",
       "      <td>The Guernsey Literary and Potato Peel Pie Society</td>\n",
       "      <td>49</td>\n",
       "    </tr>\n",
       "    <tr>\n",
       "      <th>3285</th>\n",
       "      <td>Fadily Camara : La plus drôle de tes copines</td>\n",
       "      <td>44</td>\n",
       "    </tr>\n",
       "    <tr>\n",
       "      <th>8102</th>\n",
       "      <td>Strawberry Shortcake: Berry Bitty Adventures</td>\n",
       "      <td>44</td>\n",
       "    </tr>\n",
       "    <tr>\n",
       "      <th>8096</th>\n",
       "      <td>Stop at Nothing: The Lance Armstrong Story</td>\n",
       "      <td>42</td>\n",
       "    </tr>\n",
       "    <tr>\n",
       "      <th>4512</th>\n",
       "      <td>Errementari: The Blacksmith and the Devil</td>\n",
       "      <td>41</td>\n",
       "    </tr>\n",
       "    <tr>\n",
       "      <th>2962</th>\n",
       "      <td>Miraculous: Tales of Ladybug &amp; Cat Noir</td>\n",
       "      <td>39</td>\n",
       "    </tr>\n",
       "    <tr>\n",
       "      <th>1329</th>\n",
       "      <td>The Misadventures of Hedi and Cokeman</td>\n",
       "      <td>37</td>\n",
       "    </tr>\n",
       "    <tr>\n",
       "      <th>5720</th>\n",
       "      <td>Einsatzgruppen: The Nazi Death Squads</td>\n",
       "      <td>37</td>\n",
       "    </tr>\n",
       "  </tbody>\n",
       "</table>\n",
       "</div>"
      ],
      "text/plain": [
       "                                                  title  len_title\n",
       "5659  A Christmas Special: Miraculous: Tales of Lady...         60\n",
       "7293  Les Bleus - Une autre histoire de France, 1996...         51\n",
       "4705  The Guernsey Literary and Potato Peel Pie Society         49\n",
       "3285       Fadily Camara : La plus drôle de tes copines         44\n",
       "8102       Strawberry Shortcake: Berry Bitty Adventures         44\n",
       "8096         Stop at Nothing: The Lance Armstrong Story         42\n",
       "4512          Errementari: The Blacksmith and the Devil         41\n",
       "2962            Miraculous: Tales of Ladybug & Cat Noir         39\n",
       "1329              The Misadventures of Hedi and Cokeman         37\n",
       "5720              Einsatzgruppen: The Nazi Death Squads         37"
      ]
     },
     "execution_count": 174,
     "metadata": {},
     "output_type": "execute_result"
    }
   ],
   "source": [
    "films_francais['len_title'] = films_francais['title'].str.len()\n",
    "\n",
    "films_francais.sort_values(ascending=False, by='len_title').head(10)[['title', 'len_title']]"
   ]
  },
  {
   "cell_type": "markdown",
   "metadata": {},
   "source": [
    "### Q10: Regardons les acteurs d'un peu plus près (colonne `cast`)."
   ]
  },
  {
   "cell_type": "code",
   "execution_count": 176,
   "metadata": {},
   "outputs": [
    {
     "ename": "error",
     "evalue": "nothing to repeat at position 0",
     "output_type": "error",
     "traceback": [
      "\u001b[1;31m---------------------------------------------------------------------------\u001b[0m",
      "\u001b[1;31merror\u001b[0m                                     Traceback (most recent call last)",
      "Cell \u001b[1;32mIn[176], line 3\u001b[0m\n\u001b[0;32m      1\u001b[0m netflix\n\u001b[1;32m----> 3\u001b[0m netflix\u001b[38;5;241m.\u001b[39mcolumns\u001b[38;5;241m.\u001b[39mstr\u001b[38;5;241m.\u001b[39mextract(\u001b[38;5;124m'\u001b[39m\u001b[38;5;124m*\u001b[39m\u001b[38;5;124m'\u001b[39m, expand\u001b[38;5;241m=\u001b[39m\u001b[38;5;28;01mFalse\u001b[39;00m)\n",
      "File \u001b[1;32mc:\\Users\\Jez\\.conda\\envs\\tp_mm\\Lib\\site-packages\\pandas\\core\\strings\\accessor.py:136\u001b[0m, in \u001b[0;36mforbid_nonstring_types.<locals>._forbid_nonstring_types.<locals>.wrapper\u001b[1;34m(self, *args, **kwargs)\u001b[0m\n\u001b[0;32m    131\u001b[0m     msg \u001b[38;5;241m=\u001b[39m (\n\u001b[0;32m    132\u001b[0m         \u001b[38;5;124mf\u001b[39m\u001b[38;5;124m\"\u001b[39m\u001b[38;5;124mCannot use .str.\u001b[39m\u001b[38;5;132;01m{\u001b[39;00mfunc_name\u001b[38;5;132;01m}\u001b[39;00m\u001b[38;5;124m with values of \u001b[39m\u001b[38;5;124m\"\u001b[39m\n\u001b[0;32m    133\u001b[0m         \u001b[38;5;124mf\u001b[39m\u001b[38;5;124m\"\u001b[39m\u001b[38;5;124minferred dtype \u001b[39m\u001b[38;5;124m'\u001b[39m\u001b[38;5;132;01m{\u001b[39;00m\u001b[38;5;28mself\u001b[39m\u001b[38;5;241m.\u001b[39m_inferred_dtype\u001b[38;5;132;01m}\u001b[39;00m\u001b[38;5;124m'\u001b[39m\u001b[38;5;124m.\u001b[39m\u001b[38;5;124m\"\u001b[39m\n\u001b[0;32m    134\u001b[0m     )\n\u001b[0;32m    135\u001b[0m     \u001b[38;5;28;01mraise\u001b[39;00m \u001b[38;5;167;01mTypeError\u001b[39;00m(msg)\n\u001b[1;32m--> 136\u001b[0m \u001b[38;5;28;01mreturn\u001b[39;00m func(\u001b[38;5;28mself\u001b[39m, \u001b[38;5;241m*\u001b[39margs, \u001b[38;5;241m*\u001b[39m\u001b[38;5;241m*\u001b[39mkwargs)\n",
      "File \u001b[1;32mc:\\Users\\Jez\\.conda\\envs\\tp_mm\\Lib\\site-packages\\pandas\\core\\strings\\accessor.py:2712\u001b[0m, in \u001b[0;36mStringMethods.extract\u001b[1;34m(self, pat, flags, expand)\u001b[0m\n\u001b[0;32m   2709\u001b[0m \u001b[38;5;28;01mif\u001b[39;00m \u001b[38;5;129;01mnot\u001b[39;00m \u001b[38;5;28misinstance\u001b[39m(expand, \u001b[38;5;28mbool\u001b[39m):\n\u001b[0;32m   2710\u001b[0m     \u001b[38;5;28;01mraise\u001b[39;00m \u001b[38;5;167;01mValueError\u001b[39;00m(\u001b[38;5;124m\"\u001b[39m\u001b[38;5;124mexpand must be True or False\u001b[39m\u001b[38;5;124m\"\u001b[39m)\n\u001b[1;32m-> 2712\u001b[0m regex \u001b[38;5;241m=\u001b[39m re\u001b[38;5;241m.\u001b[39mcompile(pat, flags\u001b[38;5;241m=\u001b[39mflags)\n\u001b[0;32m   2713\u001b[0m \u001b[38;5;28;01mif\u001b[39;00m regex\u001b[38;5;241m.\u001b[39mgroups \u001b[38;5;241m==\u001b[39m \u001b[38;5;241m0\u001b[39m:\n\u001b[0;32m   2714\u001b[0m     \u001b[38;5;28;01mraise\u001b[39;00m \u001b[38;5;167;01mValueError\u001b[39;00m(\u001b[38;5;124m\"\u001b[39m\u001b[38;5;124mpattern contains no capture groups\u001b[39m\u001b[38;5;124m\"\u001b[39m)\n",
      "File \u001b[1;32mc:\\Users\\Jez\\.conda\\envs\\tp_mm\\Lib\\re\\__init__.py:227\u001b[0m, in \u001b[0;36mcompile\u001b[1;34m(pattern, flags)\u001b[0m\n\u001b[0;32m    225\u001b[0m \u001b[38;5;28;01mdef\u001b[39;00m \u001b[38;5;21mcompile\u001b[39m(pattern, flags\u001b[38;5;241m=\u001b[39m\u001b[38;5;241m0\u001b[39m):\n\u001b[0;32m    226\u001b[0m     \u001b[38;5;124m\"\u001b[39m\u001b[38;5;124mCompile a regular expression pattern, returning a Pattern object.\u001b[39m\u001b[38;5;124m\"\u001b[39m\n\u001b[1;32m--> 227\u001b[0m     \u001b[38;5;28;01mreturn\u001b[39;00m _compile(pattern, flags)\n",
      "File \u001b[1;32mc:\\Users\\Jez\\.conda\\envs\\tp_mm\\Lib\\re\\__init__.py:294\u001b[0m, in \u001b[0;36m_compile\u001b[1;34m(pattern, flags)\u001b[0m\n\u001b[0;32m    288\u001b[0m     \u001b[38;5;28;01mimport\u001b[39;00m \u001b[38;5;21;01mwarnings\u001b[39;00m\n\u001b[0;32m    289\u001b[0m     warnings\u001b[38;5;241m.\u001b[39mwarn(\u001b[38;5;124m\"\u001b[39m\u001b[38;5;124mThe re.TEMPLATE/re.T flag is deprecated \u001b[39m\u001b[38;5;124m\"\u001b[39m\n\u001b[0;32m    290\u001b[0m               \u001b[38;5;124m\"\u001b[39m\u001b[38;5;124mas it is an undocumented flag \u001b[39m\u001b[38;5;124m\"\u001b[39m\n\u001b[0;32m    291\u001b[0m               \u001b[38;5;124m\"\u001b[39m\u001b[38;5;124mwithout an obvious purpose. \u001b[39m\u001b[38;5;124m\"\u001b[39m\n\u001b[0;32m    292\u001b[0m               \u001b[38;5;124m\"\u001b[39m\u001b[38;5;124mDon\u001b[39m\u001b[38;5;124m'\u001b[39m\u001b[38;5;124mt use it.\u001b[39m\u001b[38;5;124m\"\u001b[39m,\n\u001b[0;32m    293\u001b[0m               \u001b[38;5;167;01mDeprecationWarning\u001b[39;00m)\n\u001b[1;32m--> 294\u001b[0m p \u001b[38;5;241m=\u001b[39m _compiler\u001b[38;5;241m.\u001b[39mcompile(pattern, flags)\n\u001b[0;32m    295\u001b[0m \u001b[38;5;28;01mif\u001b[39;00m \u001b[38;5;129;01mnot\u001b[39;00m (flags \u001b[38;5;241m&\u001b[39m DEBUG):\n\u001b[0;32m    296\u001b[0m     \u001b[38;5;28;01mif\u001b[39;00m \u001b[38;5;28mlen\u001b[39m(_cache) \u001b[38;5;241m>\u001b[39m\u001b[38;5;241m=\u001b[39m _MAXCACHE:\n\u001b[0;32m    297\u001b[0m         \u001b[38;5;66;03m# Drop the oldest item\u001b[39;00m\n",
      "File \u001b[1;32mc:\\Users\\Jez\\.conda\\envs\\tp_mm\\Lib\\re\\_compiler.py:743\u001b[0m, in \u001b[0;36mcompile\u001b[1;34m(p, flags)\u001b[0m\n\u001b[0;32m    741\u001b[0m \u001b[38;5;28;01mif\u001b[39;00m isstring(p):\n\u001b[0;32m    742\u001b[0m     pattern \u001b[38;5;241m=\u001b[39m p\n\u001b[1;32m--> 743\u001b[0m     p \u001b[38;5;241m=\u001b[39m _parser\u001b[38;5;241m.\u001b[39mparse(p, flags)\n\u001b[0;32m    744\u001b[0m \u001b[38;5;28;01melse\u001b[39;00m:\n\u001b[0;32m    745\u001b[0m     pattern \u001b[38;5;241m=\u001b[39m \u001b[38;5;28;01mNone\u001b[39;00m\n",
      "File \u001b[1;32mc:\\Users\\Jez\\.conda\\envs\\tp_mm\\Lib\\re\\_parser.py:982\u001b[0m, in \u001b[0;36mparse\u001b[1;34m(str, flags, state)\u001b[0m\n\u001b[0;32m    979\u001b[0m state\u001b[38;5;241m.\u001b[39mflags \u001b[38;5;241m=\u001b[39m flags\n\u001b[0;32m    980\u001b[0m state\u001b[38;5;241m.\u001b[39mstr \u001b[38;5;241m=\u001b[39m \u001b[38;5;28mstr\u001b[39m\n\u001b[1;32m--> 982\u001b[0m p \u001b[38;5;241m=\u001b[39m _parse_sub(source, state, flags \u001b[38;5;241m&\u001b[39m SRE_FLAG_VERBOSE, \u001b[38;5;241m0\u001b[39m)\n\u001b[0;32m    983\u001b[0m p\u001b[38;5;241m.\u001b[39mstate\u001b[38;5;241m.\u001b[39mflags \u001b[38;5;241m=\u001b[39m fix_flags(\u001b[38;5;28mstr\u001b[39m, p\u001b[38;5;241m.\u001b[39mstate\u001b[38;5;241m.\u001b[39mflags)\n\u001b[0;32m    985\u001b[0m \u001b[38;5;28;01mif\u001b[39;00m source\u001b[38;5;241m.\u001b[39mnext \u001b[38;5;129;01mis\u001b[39;00m \u001b[38;5;129;01mnot\u001b[39;00m \u001b[38;5;28;01mNone\u001b[39;00m:\n",
      "File \u001b[1;32mc:\\Users\\Jez\\.conda\\envs\\tp_mm\\Lib\\re\\_parser.py:457\u001b[0m, in \u001b[0;36m_parse_sub\u001b[1;34m(source, state, verbose, nested)\u001b[0m\n\u001b[0;32m    455\u001b[0m start \u001b[38;5;241m=\u001b[39m source\u001b[38;5;241m.\u001b[39mtell()\n\u001b[0;32m    456\u001b[0m \u001b[38;5;28;01mwhile\u001b[39;00m \u001b[38;5;28;01mTrue\u001b[39;00m:\n\u001b[1;32m--> 457\u001b[0m     itemsappend(_parse(source, state, verbose, nested \u001b[38;5;241m+\u001b[39m \u001b[38;5;241m1\u001b[39m,\n\u001b[0;32m    458\u001b[0m                        \u001b[38;5;129;01mnot\u001b[39;00m nested \u001b[38;5;129;01mand\u001b[39;00m \u001b[38;5;129;01mnot\u001b[39;00m items))\n\u001b[0;32m    459\u001b[0m     \u001b[38;5;28;01mif\u001b[39;00m \u001b[38;5;129;01mnot\u001b[39;00m sourcematch(\u001b[38;5;124m\"\u001b[39m\u001b[38;5;124m|\u001b[39m\u001b[38;5;124m\"\u001b[39m):\n\u001b[0;32m    460\u001b[0m         \u001b[38;5;28;01mbreak\u001b[39;00m\n",
      "File \u001b[1;32mc:\\Users\\Jez\\.conda\\envs\\tp_mm\\Lib\\re\\_parser.py:684\u001b[0m, in \u001b[0;36m_parse\u001b[1;34m(source, state, verbose, nested, first)\u001b[0m\n\u001b[0;32m    682\u001b[0m     item \u001b[38;5;241m=\u001b[39m \u001b[38;5;28;01mNone\u001b[39;00m\n\u001b[0;32m    683\u001b[0m \u001b[38;5;28;01mif\u001b[39;00m \u001b[38;5;129;01mnot\u001b[39;00m item \u001b[38;5;129;01mor\u001b[39;00m item[\u001b[38;5;241m0\u001b[39m][\u001b[38;5;241m0\u001b[39m] \u001b[38;5;129;01mis\u001b[39;00m AT:\n\u001b[1;32m--> 684\u001b[0m     \u001b[38;5;28;01mraise\u001b[39;00m source\u001b[38;5;241m.\u001b[39merror(\u001b[38;5;124m\"\u001b[39m\u001b[38;5;124mnothing to repeat\u001b[39m\u001b[38;5;124m\"\u001b[39m,\n\u001b[0;32m    685\u001b[0m                        source\u001b[38;5;241m.\u001b[39mtell() \u001b[38;5;241m-\u001b[39m here \u001b[38;5;241m+\u001b[39m \u001b[38;5;28mlen\u001b[39m(this))\n\u001b[0;32m    686\u001b[0m \u001b[38;5;28;01mif\u001b[39;00m item[\u001b[38;5;241m0\u001b[39m][\u001b[38;5;241m0\u001b[39m] \u001b[38;5;129;01min\u001b[39;00m _REPEATCODES:\n\u001b[0;32m    687\u001b[0m     \u001b[38;5;28;01mraise\u001b[39;00m source\u001b[38;5;241m.\u001b[39merror(\u001b[38;5;124m\"\u001b[39m\u001b[38;5;124mmultiple repeat\u001b[39m\u001b[38;5;124m\"\u001b[39m,\n\u001b[0;32m    688\u001b[0m                        source\u001b[38;5;241m.\u001b[39mtell() \u001b[38;5;241m-\u001b[39m here \u001b[38;5;241m+\u001b[39m \u001b[38;5;28mlen\u001b[39m(this))\n",
      "\u001b[1;31merror\u001b[0m: nothing to repeat at position 0"
     ]
    }
   ],
   "source": []
  },
  {
   "cell_type": "code",
   "execution_count": null,
   "metadata": {},
   "outputs": [],
   "source": []
  },
  {
   "cell_type": "markdown",
   "metadata": {},
   "source": [
    "### Q11: Concentrons-nous sur les dates d'ajout"
   ]
  },
  {
   "cell_type": "code",
   "execution_count": 186,
   "metadata": {},
   "outputs": [],
   "source": [
    "no_na_in_date_added = netflix.copy()\n",
    "\n",
    "no_na_in_date_added = no_na_in_date_added[no_na_in_date_added['date_added'].notnull()]\n",
    "\n",
    "no_na_in_date_added['year_added'] = no_na_in_date_added['date_added'].str.split(' ', expand=True)[2]\n"
   ]
  },
  {
   "cell_type": "code",
   "execution_count": 192,
   "metadata": {},
   "outputs": [
    {
     "name": "stderr",
     "output_type": "stream",
     "text": [
      "c:\\Users\\Jez\\.conda\\envs\\tp_mm\\Lib\\site-packages\\seaborn\\_oldcore.py:1498: FutureWarning: is_categorical_dtype is deprecated and will be removed in a future version. Use isinstance(dtype, CategoricalDtype) instead\n",
      "  if pd.api.types.is_categorical_dtype(vector):\n",
      "c:\\Users\\Jez\\.conda\\envs\\tp_mm\\Lib\\site-packages\\seaborn\\_oldcore.py:1498: FutureWarning: is_categorical_dtype is deprecated and will be removed in a future version. Use isinstance(dtype, CategoricalDtype) instead\n",
      "  if pd.api.types.is_categorical_dtype(vector):\n",
      "c:\\Users\\Jez\\.conda\\envs\\tp_mm\\Lib\\site-packages\\seaborn\\_oldcore.py:1498: FutureWarning: is_categorical_dtype is deprecated and will be removed in a future version. Use isinstance(dtype, CategoricalDtype) instead\n",
      "  if pd.api.types.is_categorical_dtype(vector):\n",
      "c:\\Users\\Jez\\.conda\\envs\\tp_mm\\Lib\\site-packages\\seaborn\\_oldcore.py:1498: FutureWarning: is_categorical_dtype is deprecated and will be removed in a future version. Use isinstance(dtype, CategoricalDtype) instead\n",
      "  if pd.api.types.is_categorical_dtype(vector):\n"
     ]
    },
    {
     "data": {
      "text/plain": [
       "Text(0, 0.5, 'nombre de Films/Series ajoutées')"
      ]
     },
     "execution_count": 192,
     "metadata": {},
     "output_type": "execute_result"
    },
    {
     "data": {
      "image/png": "[encoded data removed]",
      "text/plain": [
       "<Figure size 640x480 with 1 Axes>"
      ]
     },
     "metadata": {},
     "output_type": "display_data"
    }
   ],
   "source": [
    "# group_by_type_annee = no_na_in_date_added.groupby(['year_added', 'type'])\n",
    "\n",
    "plt.title('Evolution du nombre de Films/Series ajoutées sur Netflix au fil des ans')\n",
    "plot = sns.countplot(no_na_in_date_added, x='year_added', hue='type')\n",
    "plot.set_xlabel('années')\n",
    "plot.set_ylabel('nombre de Films/Series ajoutées')\n",
    "# je n'ai pas reussi a afficher un .lineplot avec un count en Y"
   ]
  },
  {
   "cell_type": "markdown",
   "metadata": {},
   "source": [
    "### Q12: Évolution du nombre de films/séries produits par le top 10 des pays producteurs au fil des ans"
   ]
  },
  {
   "cell_type": "code",
   "execution_count": 213,
   "metadata": {},
   "outputs": [
    {
     "data": {
      "text/plain": [
       "country\n",
       "United States     2812\n",
       "India              972\n",
       "United Kingdom     418\n",
       "Japan              244\n",
       "South Korea        199\n",
       "Canada             181\n",
       "Spain              145\n",
       "France             124\n",
       "Mexico             110\n",
       "Egypt              106\n",
       "Name: country, dtype: int64"
      ]
     },
     "execution_count": 213,
     "metadata": {},
     "output_type": "execute_result"
    }
   ],
   "source": [
    "# il faudrait gerer les irregularites des pays\n",
    "# firstfilms = netflix.groupby('country')['country']\n",
    "\n",
    "vals = no_na_in_date_added.groupby('country')['country'].count().sort_values(ascending=False).head(10)\n",
    "\n",
    "firstfilms = ['United States', 'India', 'United Kingdom', 'Japan', '']\n",
    "\n",
    "# films_francais.sort_values(ascending=False, by='len_title').head(10)[['title', 'len_title']]\n",
    "# no_na_in_date_added[]\n",
    "\n",
    "\n",
    "# plt.title('Evolution du nombre de Films/Series ajoutées sur Netflix au fil des ans')\n",
    "# plot = sns.countplot(no_na_in_date_added, x='year_added', hue=firstfilms)\n",
    "# plot.set_xlabel('années')\n",
    "# plot.set_ylabel('nombre de Films/Series ajoutées')"
   ]
  },
  {
   "cell_type": "code",
   "execution_count": null,
   "metadata": {},
   "outputs": [],
   "source": []
  },
  {
   "cell_type": "code",
   "execution_count": null,
   "metadata": {},
   "outputs": [],
   "source": []
  },
  {
   "cell_type": "code",
   "execution_count": null,
   "metadata": {},
   "outputs": [],
   "source": []
  },
  {
   "cell_type": "code",
   "execution_count": null,
   "metadata": {},
   "outputs": [],
   "source": []
  },
  {
   "cell_type": "markdown",
   "metadata": {},
   "source": [
    "### Q13: Étudions la distribuion de la durée des films disponibles sur Netflix."
   ]
  },
  {
   "cell_type": "code",
   "execution_count": null,
   "metadata": {},
   "outputs": [],
   "source": []
  },
  {
   "cell_type": "code",
   "execution_count": null,
   "metadata": {},
   "outputs": [],
   "source": []
  },
  {
   "cell_type": "code",
   "execution_count": null,
   "metadata": {},
   "outputs": [],
   "source": []
  },
  {
   "cell_type": "markdown",
   "metadata": {},
   "source": [
    "### Q14: Étudions les séries télévisées."
   ]
  },
  {
   "cell_type": "code",
   "execution_count": null,
   "metadata": {},
   "outputs": [],
   "source": []
  },
  {
   "cell_type": "code",
   "execution_count": null,
   "metadata": {},
   "outputs": [],
   "source": []
  },
  {
   "cell_type": "code",
   "execution_count": null,
   "metadata": {},
   "outputs": [],
   "source": []
  },
  {
   "cell_type": "code",
   "execution_count": null,
   "metadata": {},
   "outputs": [],
   "source": []
  }
 ],
 "metadata": {
  "kernelspec": {
   "display_name": "tp_mm",
   "language": "python",
   "name": "python3"
  },
  "language_info": {
   "codemirror_mode": {
    "name": "ipython",
    "version": 3
   },
   "file_extension": ".py",
   "mimetype": "text/x-python",
   "name": "python",
   "nbconvert_exporter": "python",
   "pygments_lexer": "ipython3",
   "version": "3.10.12"
  }
 },
 "nbformat": 4,
 "nbformat_minor": 2
}
