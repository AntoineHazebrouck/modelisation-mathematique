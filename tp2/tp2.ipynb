{
 "cells": [
  {
   "cell_type": "code",
   "execution_count": 51,
   "metadata": {},
   "outputs": [],
   "source": [
    "import pandas as pd\n",
    "import matplotlib.pyplot as plt\n",
    "import seaborn as  sns\n",
    "import numpy as np"
   ]
  },
  {
   "cell_type": "markdown",
   "metadata": {},
   "source": [
    "## Exercice 1 : Premier contact avec la librairie pandas"
   ]
  },
  {
   "cell_type": "markdown",
   "metadata": {},
   "source": [
    "### Q1. Intéressons-nous d’abord à la question de l’indexation et de l’accès aux données par défaut.\n"
   ]
  },
  {
   "cell_type": "markdown",
   "metadata": {},
   "source": [
    "#### Q1.1. Importez la colonne ’age’ du fichier data_mm_clients_series.csv grâce à l’option usecols de la méthode read_csv."
   ]
  },
  {
   "cell_type": "code",
   "execution_count": 52,
   "metadata": {},
   "outputs": [
    {
     "name": "stdout",
     "output_type": "stream",
     "text": [
      "     age\n",
      "0   54.0\n",
      "1   23.0\n",
      "2   30.0\n",
      "3   42.0\n",
      "4   47.0\n",
      "5   41.0\n",
      "6   34.0\n",
      "7   26.0\n",
      "8   53.0\n",
      "9   31.0\n",
      "10  34.0\n",
      "11  35.0\n",
      "12  44.0\n",
      "13  41.0\n",
      "14  28.0\n",
      "15  28.0\n",
      "16  37.0\n",
      "17  40.0\n",
      "18  43.0\n",
      "19  47.0\n",
      "20  29.0\n",
      "21  30.0\n",
      "22  41.0\n",
      "23  54.0\n",
      "24  25.0\n",
      "25  26.0\n",
      "26  36.0\n",
      "27  35.0\n",
      "28  23.0\n",
      "29  29.0\n",
      "30   NaN\n",
      "31  23.0\n",
      "32  40.0\n",
      "33  34.0\n",
      "34  50.0\n",
      "35  45.0\n",
      "36  26.0\n",
      "37  32.0\n",
      "38  53.0\n",
      "39  43.0\n",
      "40  42.0\n",
      "41  53.0\n",
      "42  38.0\n",
      "43  44.0\n",
      "44  50.0\n",
      "45  34.0\n",
      "46  37.0\n",
      "47  35.0\n",
      "48  49.0\n",
      "49  54.0\n"
     ]
    }
   ],
   "source": [
    "ages = pd.read_csv('./tp_mm_02_res/data_mm_clients_series.csv', usecols=['age'])\n",
    "\n",
    "print(ages)"
   ]
  },
  {
   "cell_type": "markdown",
   "metadata": {},
   "source": [
    "#### Q1.2. Affichez les 5 premières lignes."
   ]
  },
  {
   "cell_type": "code",
   "execution_count": 53,
   "metadata": {},
   "outputs": [
    {
     "name": "stdout",
     "output_type": "stream",
     "text": [
      "   identifiant               nom genre   age                      email\n",
      "0            0  Laurent Dagenais     M  54.0  LaurentDagenais@rhyta.com\n",
      "1            1        Guy Marois     M  23.0      GuyMarois@fleckens.hu\n",
      "2            2   Beaufort Lesage     M  30.0  BeaufortLesage@einrot.com\n",
      "3            3    Russell Durand     M  42.0  RussellDurand@armyspy.com\n",
      "4            4       Alexis Riel     M  47.0       AlexisRiel@rhyta.com\n"
     ]
    }
   ],
   "source": [
    "clientsLimit5 = pd.read_csv('./tp_mm_02_res/data_mm_clients_series.csv').head(5)\n",
    "\n",
    "print(clientsLimit5)"
   ]
  },
  {
   "cell_type": "markdown",
   "metadata": {},
   "source": [
    "#### Q1.3. Affichez les 5 dernières lignes."
   ]
  },
  {
   "cell_type": "code",
   "execution_count": 54,
   "metadata": {},
   "outputs": [
    {
     "name": "stdout",
     "output_type": "stream",
     "text": [
      "    identifiant               nom genre   age                       email\n",
      "45           45     Verney Bedard     M  34.0     VerneyBedard@dayrep.com\n",
      "46           46   Ignace Audibert     M  37.0  IgnaceAudibert@armyspy.com\n",
      "47           47      Franck Binet     M  35.0   FranckBinet@superrito.com\n",
      "48           48  Sumner Rocheleau     M  49.0  SumnerRocheleau@einrot.com\n",
      "49           49      Aubert Patel     M  54.0     AubertPatel@armyspy.com\n"
     ]
    }
   ],
   "source": [
    "clientsLastFive = pd.read_csv('./tp_mm_02_res/data_mm_clients_series.csv').tail(5)\n",
    "\n",
    "print(clientsLastFive)"
   ]
  },
  {
   "cell_type": "markdown",
   "metadata": {},
   "source": [
    "#### Q1.4. Affichez la taille des données, via l’attribut shape."
   ]
  },
  {
   "cell_type": "code",
   "execution_count": 55,
   "metadata": {},
   "outputs": [
    {
     "name": "stdout",
     "output_type": "stream",
     "text": [
      "(50, 5)\n"
     ]
    }
   ],
   "source": [
    "size = pd.read_csv('./tp_mm_02_res/data_mm_clients_series.csv').shape\n",
    "\n",
    "print(size)"
   ]
  },
  {
   "cell_type": "markdown",
   "metadata": {},
   "source": [
    "\n",
    "#### Q1.5. Affichez les données d’indice 2 et d’étiquette 2 via les méthodes iloc et loc. Quelle différence cela fait-il ?\n"
   ]
  },
  {
   "cell_type": "code",
   "execution_count": 56,
   "metadata": {},
   "outputs": [
    {
     "name": "stdout",
     "output_type": "stream",
     "text": [
      "identifiant                            2\n",
      "nom                      Beaufort Lesage\n",
      "genre                                  M\n",
      "age                                 30.0\n",
      "email          BeaufortLesage@einrot.com\n",
      "Name: 2, dtype: object\n",
      "identifiant                            2\n",
      "nom                      Beaufort Lesage\n",
      "genre                                  M\n",
      "age                                 30.0\n",
      "email          BeaufortLesage@einrot.com\n",
      "Name: 2, dtype: object\n"
     ]
    }
   ],
   "source": [
    "index1 = pd.read_csv('./tp_mm_02_res/data_mm_clients_series.csv').iloc[2]\n",
    "indice1 = pd.read_csv('./tp_mm_02_res/data_mm_clients_series.csv').loc[2]\n",
    "\n",
    "print(index1)\n",
    "print(indice1)"
   ]
  },
  {
   "cell_type": "markdown",
   "metadata": {},
   "source": [
    "### Q2. Indexons différemment les données."
   ]
  },
  {
   "cell_type": "markdown",
   "metadata": {},
   "source": [
    "\n",
    "#### Q2.1. Importez les colonnes age et nom du fichier data_mm_clients_series.csv en utilisant cette fois le nom comme index, grâce à l’option index_col."
   ]
  },
  {
   "cell_type": "code",
   "execution_count": 57,
   "metadata": {},
   "outputs": [
    {
     "name": "stdout",
     "output_type": "stream",
     "text": [
      "                      age\n",
      "nom                      \n",
      "Laurent Dagenais     54.0\n",
      "Guy Marois           23.0\n",
      "Beaufort Lesage      30.0\n",
      "Russell Durand       42.0\n",
      "Alexis Riel          47.0\n",
      "Leon Lapresse        41.0\n",
      "Orville Routhier     34.0\n",
      "Agramant Pepin       26.0\n",
      "Aiglentina Lambert   53.0\n",
      "Theodore Clavet      31.0\n",
      "Byron Lefebvre       34.0\n",
      "Florus Devoe         35.0\n",
      "Normand Arsenault    44.0\n",
      "Aceline Hughes       41.0\n",
      "Gaston Brisette      28.0\n",
      "Agate Grandbois      28.0\n",
      "Agrican Foucault     37.0\n",
      "Prunella Josseaume   40.0\n",
      "Yseult Charest       43.0\n",
      "Dorothee Aupry       47.0\n",
      "Amaury Reault        29.0\n",
      "Gilles Beauchamps    30.0\n",
      "Franck Dumont        41.0\n",
      "Delmare L Heureux    54.0\n",
      "Alphonse Cantin      25.0\n",
      "Blondelle Rochon     26.0\n",
      "Saville Bernard      36.0\n",
      "Annette Jolicoeur    35.0\n",
      "Bradamate Michel     23.0\n",
      "Hilaire Frappier     29.0\n",
      "Marie Briard          NaN\n",
      "Madeleine Batard     23.0\n",
      "Arber Garcia         40.0\n",
      "Saber Viens          34.0\n",
      "Arnaud Dubois        50.0\n",
      "Pryor Beauchamp      45.0\n",
      "Alphonse Potvin      26.0\n",
      "Fitz Lafontaine      32.0\n",
      "Delmare Lamothe      53.0\n",
      "Daisi Boileau        43.0\n",
      "Somer Paquette       42.0\n",
      "Olivie Courtemanche  53.0\n",
      "Germain Hughes       38.0\n",
      "Morgana Bellemare    44.0\n",
      "Merci Morin          50.0\n",
      "Verney Bedard        34.0\n",
      "Ignace Audibert      37.0\n",
      "Franck Binet         35.0\n",
      "Sumner Rocheleau     49.0\n",
      "Aubert Patel         54.0\n"
     ]
    }
   ],
   "source": [
    "ageAndFilename = pd.read_csv('./tp_mm_02_res/data_mm_clients_series.csv', index_col='nom', usecols=['age', 'nom'])\n",
    "\n",
    "print(ageAndFilename)"
   ]
  },
  {
   "cell_type": "markdown",
   "metadata": {},
   "source": [
    "#### Q2.2. Affichez Les 5 premières lignes et constatez la différence avec l’indexation par défaut."
   ]
  },
  {
   "cell_type": "code",
   "execution_count": 58,
   "metadata": {},
   "outputs": [
    {
     "name": "stdout",
     "output_type": "stream",
     "text": [
      "                   age\n",
      "nom                   \n",
      "Laurent Dagenais  54.0\n",
      "Guy Marois        23.0\n",
      "Beaufort Lesage   30.0\n",
      "Russell Durand    42.0\n",
      "Alexis Riel       47.0\n"
     ]
    }
   ],
   "source": [
    "ageAndFilename = pd.read_csv('./tp_mm_02_res/data_mm_clients_series.csv', index_col='nom', usecols=['age', 'nom'])\n",
    "firstFiveRows = ageAndFilename.head(5)\n",
    "\n",
    "print(firstFiveRows)"
   ]
  },
  {
   "cell_type": "markdown",
   "metadata": {},
   "source": [
    "#### Q2.3. Affichez également la taille des données. Qu’est-ce qui change ?"
   ]
  },
  {
   "cell_type": "code",
   "execution_count": 59,
   "metadata": {},
   "outputs": [
    {
     "name": "stdout",
     "output_type": "stream",
     "text": [
      "(50, 1)\n"
     ]
    }
   ],
   "source": [
    "ageAndFilename = pd.read_csv('./tp_mm_02_res/data_mm_clients_series.csv', index_col='nom', usecols=['age', 'nom'])\n",
    "size = ageAndFilename.shape\n",
    "\n",
    "print(size)"
   ]
  },
  {
   "cell_type": "markdown",
   "metadata": {},
   "source": [
    "\n",
    "#### Q2.4. Affichez l’age d’indice 2 et l’age de ’Beaufort Lesage’ via les méthodes iloc et loc."
   ]
  },
  {
   "cell_type": "code",
   "execution_count": 60,
   "metadata": {},
   "outputs": [
    {
     "name": "stdout",
     "output_type": "stream",
     "text": [
      "identifiant                            2\n",
      "nom                      Beaufort Lesage\n",
      "genre                                  M\n",
      "age                                 30.0\n",
      "email          BeaufortLesage@einrot.com\n",
      "Name: 2, dtype: object\n",
      "   identifiant              nom genre   age                      email\n",
      "2            2  Beaufort Lesage     M  30.0  BeaufortLesage@einrot.com\n"
     ]
    }
   ],
   "source": [
    "file = pd.read_csv('./tp_mm_02_res/data_mm_clients_series.csv')\n",
    "ageIndice2 = file.loc[2]\n",
    "ageIndexBeaufortLesage = file.loc[file['nom'] == 'Beaufort Lesage']\n",
    "\n",
    "print(ageIndice2)\n",
    "print(ageIndexBeaufortLesage)"
   ]
  },
  {
   "cell_type": "markdown",
   "metadata": {},
   "source": [
    "### Q3. Pratiquons maintenant quelques restrictions afin de filtrer notre dataframe !"
   ]
  },
  {
   "cell_type": "markdown",
   "metadata": {},
   "source": [
    "#### Q3.1. Affichez les informations des personnes ayant exactement 41 ans."
   ]
  },
  {
   "cell_type": "code",
   "execution_count": 61,
   "metadata": {},
   "outputs": [
    {
     "name": "stdout",
     "output_type": "stream",
     "text": [
      "    identifiant             nom genre   age                         email\n",
      "5             5   Leon Lapresse     M  41.0         LeonLapresse@cuvox.de\n",
      "13           13  Aceline Hughes     F  41.0  AcelineHughes@jourrapide.com\n",
      "22           22   Franck Dumont     M  41.0        FranckDumont@gustr.com\n"
     ]
    }
   ],
   "source": [
    "file = pd.read_csv('./tp_mm_02_res/data_mm_clients_series.csv')\n",
    "\n",
    "age41 = file.loc[file['age'] == 41]\n",
    "\n",
    "print(age41)"
   ]
  },
  {
   "cell_type": "markdown",
   "metadata": {},
   "source": [
    "#### Q3.2. Affichez uniquement le nom de la dernière personne sur cette liste."
   ]
  },
  {
   "cell_type": "code",
   "execution_count": 62,
   "metadata": {},
   "outputs": [
    {
     "name": "stdout",
     "output_type": "stream",
     "text": [
      "Aubert Patel\n"
     ]
    }
   ],
   "source": [
    "file = pd.read_csv('./tp_mm_02_res/data_mm_clients_series.csv')\n",
    "\n",
    "lastPersonsName = file.iloc[-1].get('nom')\n",
    "\n",
    "print(lastPersonsName)"
   ]
  },
  {
   "cell_type": "markdown",
   "metadata": {},
   "source": [
    "\n",
    "#### Q3.3. Affichez uniquement les informations des personnes ayant entre 40 et 50 ans.\n"
   ]
  },
  {
   "cell_type": "code",
   "execution_count": 63,
   "metadata": {},
   "outputs": [
    {
     "name": "stdout",
     "output_type": "stream",
     "text": [
      "    identifiant                nom genre   age                           email\n",
      "3             3     Russell Durand     M  42.0       RussellDurand@armyspy.com\n",
      "4             4        Alexis Riel     M  47.0            AlexisRiel@rhyta.com\n",
      "5             5      Leon Lapresse     M  41.0           LeonLapresse@cuvox.de\n",
      "12           12  Normand Arsenault     M  44.0    NormandArsenault@armyspy.com\n",
      "13           13     Aceline Hughes     F  41.0    AcelineHughes@jourrapide.com\n",
      "18           18     Yseult Charest     F  43.0       YseultCharest@armyspy.com\n",
      "19           19     Dorothee Aupry     F  47.0          DorotheeAupry@cuvox.de\n",
      "22           22      Franck Dumont     M  41.0          FranckDumont@gustr.com\n",
      "35           35    Pryor Beauchamp     M  45.0       PryorBeauchamp@dayrep.com\n",
      "39           39      Daisi Boileau     F  43.0     DaisiBoileau@jourrapide.com\n",
      "40           40     Somer Paquette     M  42.0    SomerPaquette@jourrapide.com\n",
      "43           43  Morgana Bellemare     F  44.0  MorganaBellemare@superrito.com\n",
      "48           48   Sumner Rocheleau     M  49.0      SumnerRocheleau@einrot.com\n"
     ]
    }
   ],
   "source": [
    "file = pd.read_csv('./tp_mm_02_res/data_mm_clients_series.csv')\n",
    "\n",
    "between40And50 = file.loc[(file['age'] < 50) & (file['age'] > 40)]\n",
    "\n",
    "print(between40And50)"
   ]
  },
  {
   "cell_type": "markdown",
   "metadata": {},
   "source": [
    "\n",
    "#### Q3.4. Exportez la liste de toutes les quadragénaires au format csv et un séparateur | via la méthode to_csv"
   ]
  },
  {
   "cell_type": "code",
   "execution_count": 64,
   "metadata": {},
   "outputs": [
    {
     "name": "stdout",
     "output_type": "stream",
     "text": [
      "|identifiant|nom|genre|age|email\n",
      "3|3|Russell Durand|M|42.0|RussellDurand@armyspy.com\n",
      "4|4|Alexis Riel|M|47.0|AlexisRiel@rhyta.com\n",
      "5|5|Leon Lapresse|M|41.0|LeonLapresse@cuvox.de\n",
      "12|12|Normand Arsenault|M|44.0|NormandArsenault@armyspy.com\n",
      "13|13|Aceline Hughes|F|41.0|AcelineHughes@jourrapide.com\n",
      "18|18|Yseult Charest|F|43.0|YseultCharest@armyspy.com\n",
      "19|19|Dorothee Aupry|F|47.0|DorotheeAupry@cuvox.de\n",
      "22|22|Franck Dumont|M|41.0|FranckDumont@gustr.com\n",
      "35|35|Pryor Beauchamp|M|45.0|PryorBeauchamp@dayrep.com\n",
      "39|39|Daisi Boileau|F|43.0|DaisiBoileau@jourrapide.com\n",
      "40|40|Somer Paquette|M|42.0|SomerPaquette@jourrapide.com\n",
      "43|43|Morgana Bellemare|F|44.0|MorganaBellemare@superrito.com\n",
      "48|48|Sumner Rocheleau|M|49.0|SumnerRocheleau@einrot.com\n",
      "\n"
     ]
    }
   ],
   "source": [
    "file = pd.read_csv('./tp_mm_02_res/data_mm_clients_series.csv')\n",
    "\n",
    "between40And50 = file.loc[(file['age'] < 50) & (file['age'] > 40)]\n",
    "\n",
    "csvFile = between40And50.to_csv(sep='|')\n",
    "\n",
    "print(csvFile)"
   ]
  },
  {
   "cell_type": "markdown",
   "metadata": {},
   "source": [
    "### Q4. Voyons maintenant comment associer plusieurs fichiers."
   ]
  },
  {
   "cell_type": "markdown",
   "metadata": {},
   "source": [
    "#### Q4.1. Importez dans un dataframe clients1 les données du fichier CSV data_mm_clients_part1.csv.\n"
   ]
  },
  {
   "cell_type": "code",
   "execution_count": 65,
   "metadata": {},
   "outputs": [],
   "source": [
    "clients1 = pd.read_csv('./tp_mm_02_res/data_mm_clients_part1.csv')"
   ]
  },
  {
   "cell_type": "markdown",
   "metadata": {},
   "source": [
    "#### Q4.2. Malheureusement, les données initiales ont été morcelées en deux fichiers, sous des formats différents en plus ! Importez dans un autre dataframe clients2 les données du fichier JSON data_mm_clients_part2.json."
   ]
  },
  {
   "cell_type": "code",
   "execution_count": 66,
   "metadata": {},
   "outputs": [],
   "source": [
    "clients2 = pd.read_json('./tp_mm_02_res/data_mm_clients_part2.json')"
   ]
  },
  {
   "cell_type": "markdown",
   "metadata": {},
   "source": [
    "#### Q4.3. Fusionnez les deux dataframes afin de n’en obtenir qu’un seul, contenant toutes les données."
   ]
  },
  {
   "cell_type": "code",
   "execution_count": 67,
   "metadata": {},
   "outputs": [
    {
     "name": "stdout",
     "output_type": "stream",
     "text": [
      "     identifiant                            email                nom genre\n",
      "0              0        LaurentDagenais@rhyta.com   Laurent Dagenais     M\n",
      "1              1            GuyMarois@fleckens.hu         Guy Marois     M\n",
      "2              2        BeaufortLesage@einrot.com    Beaufort Lesage     M\n",
      "3              3        RussellDurand@armyspy.com     Russell Durand     M\n",
      "4              4             AlexisRiel@rhyta.com        Alexis Riel     M\n",
      "..           ...                              ...                ...   ...\n",
      "223          223  ClaudeDandonneau@jourrapide.com  Claude Dandonneau     F\n",
      "224          224    ApollineMichaud@superrito.com   Apolline Michaud     F\n",
      "225          225       PascalineBeaudry@rhyta.com  Pascaline Beaudry     F\n",
      "226          226     FleurCaouette@jourrapide.com     Fleur Caouette     F\n",
      "227          227      FrancisMasse@jourrapide.com      Francis Masse     M\n",
      "\n",
      "[228 rows x 4 columns]\n"
     ]
    }
   ],
   "source": [
    "concatenated = pd.concat([clients1, clients2])\n",
    "print(concatenated)"
   ]
  },
  {
   "cell_type": "markdown",
   "metadata": {},
   "source": [
    "#### Q4.4. Récupérez et importez le fichier complémentaire contenant les identifiants et les ages de certains clients: le fichier data_mm_clients_age.csv"
   ]
  },
  {
   "cell_type": "code",
   "execution_count": 68,
   "metadata": {},
   "outputs": [],
   "source": [
    "complementary_data = pd.read_csv('./tp_mm_02_res/data_mm_clients_age.csv')"
   ]
  },
  {
   "cell_type": "markdown",
   "metadata": {},
   "source": [
    "#### Q4.5. Par jointure entre vos deux dataframes, reconstituez un ensemble de données complets, sans perdre de clients au passage: on souhaite conserver les clients pour lesquels nous n’avons pas l’âge mais oublier les âges pour lesquels aucun client ne correspond. Vérifiez le nombre de lignes obtenues"
   ]
  },
  {
   "cell_type": "code",
   "execution_count": 69,
   "metadata": {},
   "outputs": [
    {
     "name": "stdout",
     "output_type": "stream",
     "text": [
      "   identifiant                      email               nom genre   age\n",
      "0            0  LaurentDagenais@rhyta.com  Laurent Dagenais     M  54.0\n",
      "1            1      GuyMarois@fleckens.hu        Guy Marois     M  23.0\n",
      "2            2  BeaufortLesage@einrot.com   Beaufort Lesage     M  30.0\n",
      "3            3  RussellDurand@armyspy.com    Russell Durand     M  42.0\n",
      "4            4       AlexisRiel@rhyta.com       Alexis Riel     M  47.0\n",
      "   identifiant                      email               nom genre\n",
      "0            0  LaurentDagenais@rhyta.com  Laurent Dagenais     M\n",
      "1            1      GuyMarois@fleckens.hu        Guy Marois     M\n",
      "2            2  BeaufortLesage@einrot.com   Beaufort Lesage     M\n",
      "3            3  RussellDurand@armyspy.com    Russell Durand     M\n",
      "4            4       AlexisRiel@rhyta.com       Alexis Riel     M\n"
     ]
    }
   ],
   "source": [
    "# concatenated join complementary_data\n",
    "reassembled = concatenated.merge(complementary_data, on='identifiant', how='left')\n",
    "\n",
    "print(reassembled.head(5))\n",
    "print(concatenated.head(5))"
   ]
  },
  {
   "cell_type": "markdown",
   "metadata": {},
   "source": [
    "### Q5. Encore quelques restrictions"
   ]
  },
  {
   "cell_type": "markdown",
   "metadata": {},
   "source": [
    "#### Q5.1. Affichez les informations liées aux clients dont l’age reste inconnu."
   ]
  },
  {
   "cell_type": "code",
   "execution_count": 70,
   "metadata": {},
   "outputs": [
    {
     "name": "stdout",
     "output_type": "stream",
     "text": [
      "     identifiant                       email                nom genre  age\n",
      "30            30       MarieBriard@gustr.com       Marie Briard     F  NaN\n",
      "97            97    LaureBondy@superrito.com        Laure Bondy     F  NaN\n",
      "125          125      SibylaLizotte@cuvox.de     Sibyla Lizotte     F  NaN\n",
      "143          143  ToussaintBrodeur@rhyta.com  Toussaint Brodeur     M  NaN\n",
      "197          197     HuonDeLaRonde@rhyta.com   Huon De La Ronde     M  NaN\n"
     ]
    }
   ],
   "source": [
    "unknownAge = reassembled.loc[reassembled['age'].notnull() == False]\n",
    "\n",
    "print(unknownAge)"
   ]
  },
  {
   "cell_type": "markdown",
   "metadata": {},
   "source": [
    "#### Q5.2. Affichez tous les clients ayant un numéro supérieur à 222."
   ]
  },
  {
   "cell_type": "code",
   "execution_count": 71,
   "metadata": {},
   "outputs": [
    {
     "name": "stdout",
     "output_type": "stream",
     "text": [
      "     identifiant                            email                nom genre  \\\n",
      "223          223  ClaudeDandonneau@jourrapide.com  Claude Dandonneau     F   \n",
      "224          224    ApollineMichaud@superrito.com   Apolline Michaud     F   \n",
      "225          225       PascalineBeaudry@rhyta.com  Pascaline Beaudry     F   \n",
      "226          226     FleurCaouette@jourrapide.com     Fleur Caouette     F   \n",
      "227          227      FrancisMasse@jourrapide.com      Francis Masse     M   \n",
      "\n",
      "      age  \n",
      "223  30.0  \n",
      "224  27.0  \n",
      "225  29.0  \n",
      "226  26.0  \n",
      "227  27.0  \n"
     ]
    }
   ],
   "source": [
    "above222 = reassembled.loc[reassembled['identifiant'] > 222]\n",
    "\n",
    "print(above222)"
   ]
  },
  {
   "cell_type": "markdown",
   "metadata": {},
   "source": [
    "#### Q5.3. Dès qu’on souhaite analyser ou effectuer un traitement sur une colonne de type ’chaîne de caractère’, il faut appliquer la méthode .str.ma_méthode(). De cette manière, affichez tous les clients ayant un nom commençant par la lettre ’B’."
   ]
  },
  {
   "cell_type": "code",
   "execution_count": 72,
   "metadata": {},
   "outputs": [
    {
     "name": "stdout",
     "output_type": "stream",
     "text": [
      "     identifiant                          email                   nom genre  \\\n",
      "2              2      BeaufortLesage@einrot.com       Beaufort Lesage     M   \n",
      "10            10   ByronLefebvre@jourrapide.com        Byron Lefebvre     M   \n",
      "25            25      BlondelleRochon@gustr.com      Blondelle Rochon     F   \n",
      "28            28    BradamateMichel@armyspy.com      Bradamate Michel     F   \n",
      "52            52     BelisardaGuedry@dayrep.com      Belisarda Guedry     F   \n",
      "96            96     BenjaminLabrie@fleckens.hu       Benjamin Labrie     M   \n",
      "116          116       BeldaLauzier@armyspy.com         Belda Lauzier     F   \n",
      "136          136          BriceFaure@einrot.com           Brice Faure     M   \n",
      "170          170  BlondelleAilleboust@gustr.com  Blondelle Ailleboust     F   \n",
      "173          173       BriceGrondin@fleckens.hu         Brice Grondin     M   \n",
      "182          182       BenoitGauvin@teleworm.us         Benoit Gauvin     M   \n",
      "\n",
      "      age  \n",
      "2    30.0  \n",
      "10   34.0  \n",
      "25   26.0  \n",
      "28   23.0  \n",
      "52   26.0  \n",
      "96   25.0  \n",
      "116  47.0  \n",
      "136  54.0  \n",
      "170  43.0  \n",
      "173  27.0  \n",
      "182  43.0  \n"
     ]
    }
   ],
   "source": [
    "namesStartingWithB = reassembled.loc[reassembled['nom'].str.startswith('B')]\n",
    "\n",
    "print(namesStartingWithB)"
   ]
  },
  {
   "cell_type": "markdown",
   "metadata": {},
   "source": [
    "#### Q5.4. Ajoutez une colonne longueur_nom à votre dataframe contenant le nombre de caractères du champ ’nom’."
   ]
  },
  {
   "cell_type": "code",
   "execution_count": 73,
   "metadata": {},
   "outputs": [
    {
     "name": "stdout",
     "output_type": "stream",
     "text": [
      "   identifiant                      email               nom genre   age  \\\n",
      "0            0  LaurentDagenais@rhyta.com  Laurent Dagenais     M  54.0   \n",
      "1            1      GuyMarois@fleckens.hu        Guy Marois     M  23.0   \n",
      "2            2  BeaufortLesage@einrot.com   Beaufort Lesage     M  30.0   \n",
      "3            3  RussellDurand@armyspy.com    Russell Durand     M  42.0   \n",
      "4            4       AlexisRiel@rhyta.com       Alexis Riel     M  47.0   \n",
      "\n",
      "   longueur_nom  \n",
      "0            16  \n",
      "1            10  \n",
      "2            15  \n",
      "3            14  \n",
      "4            11  \n"
     ]
    }
   ],
   "source": [
    "plusLengthName = reassembled\n",
    "\n",
    "plusLengthName['longueur_nom'] = reassembled['nom'].str.len()\n",
    "\n",
    "print(plusLengthName.head(5))"
   ]
  },
  {
   "cell_type": "markdown",
   "metadata": {},
   "source": [
    "#### Q5.5. Le fait de trouver à la fois le nom et le prénom à l’intérieur du même champ ne nous arrange pas. Faites les modifications nécessaires afin d’obtenir une colonne nom et une colonne prénom dédiées"
   ]
  },
  {
   "cell_type": "code",
   "execution_count": 74,
   "metadata": {},
   "outputs": [
    {
     "name": "stdout",
     "output_type": "stream",
     "text": [
      "   identifiant                      email       nom genre   age  longueur_nom  \\\n",
      "0            0  LaurentDagenais@rhyta.com  Dagenais     M  54.0            16   \n",
      "1            1      GuyMarois@fleckens.hu    Marois     M  23.0            10   \n",
      "2            2  BeaufortLesage@einrot.com    Lesage     M  30.0            15   \n",
      "3            3  RussellDurand@armyspy.com    Durand     M  42.0            14   \n",
      "4            4       AlexisRiel@rhyta.com      Riel     M  47.0            11   \n",
      "\n",
      "     prenom  \n",
      "0   Laurent  \n",
      "1       Guy  \n",
      "2  Beaufort  \n",
      "3   Russell  \n",
      "4    Alexis  \n"
     ]
    }
   ],
   "source": [
    "splitNomPrenom = reassembled\n",
    "\n",
    "splitNomPrenom[['prenom', 'nom']] = splitNomPrenom['nom'].str.split(' ', n=1, expand=True)\n",
    "\n",
    "print(splitNomPrenom.head(5))\n"
   ]
  },
  {
   "cell_type": "markdown",
   "metadata": {},
   "source": [
    "### Q6. Un peu de visualisation."
   ]
  },
  {
   "cell_type": "markdown",
   "metadata": {},
   "source": [
    "#### Q6.1. Tracez un diagramme circulaire représentant le nombre de clients par tranche d’âge (par dizaine). N’oubliez ni la légende, ni le titre."
   ]
  },
  {
   "cell_type": "code",
   "execution_count": 75,
   "metadata": {},
   "outputs": [
    {
     "data": {
      "text/plain": [
       "array([<Axes: ylabel='age'>], dtype=object)"
      ]
     },
     "execution_count": 75,
     "metadata": {},
     "output_type": "execute_result"
    },
    {
     "data": {
      "image/png": "[encoded data removed]",
      "text/plain": [
       "<Figure size 640x480 with 1 Axes>"
      ]
     },
     "metadata": {},
     "output_type": "display_data"
    }
   ],
   "source": [
    "grouping = reassembled\n",
    "for ageLow in range(0, 100, 10):\n",
    "\tageHigh = ageLow + 10\n",
    "\n",
    "\tgrouping.loc[(grouping['age'] >= ageLow) & (grouping['age'] < ageHigh), 'ageTranche'] = ageLow\n",
    "\n",
    "description = grouping.groupby('ageTranche').count()\n",
    "\n",
    "tranchesAges = description[['age']]\n",
    "\n",
    "tranchesAges.plot.pie(subplots=True, autopct='%1.1f%%')"
   ]
  },
  {
   "cell_type": "markdown",
   "metadata": {},
   "source": [
    "#### Q6.2. Cette représentation n’apporte pas suffisamment d’information. Réalisez un histogramme avec un découpage des tranches d’âge deux fois plus fin.\n"
   ]
  },
  {
   "cell_type": "code",
   "execution_count": 76,
   "metadata": {},
   "outputs": [],
   "source": [
    "# grouping = reassembled\n",
    "# for ageLow in range(0, 100, 5):\n",
    "# \tageHigh = ageLow + 5\n",
    "\n",
    "# \tgrouping.loc[(grouping['age'] >= ageLow) & (grouping['age'] < ageHigh), 'ageTranche'] = ageLow\n",
    "\n",
    "# description = grouping.groupby('ageTranche').count()\n",
    "\n",
    "# tranchesAges = description[['age']]\n",
    "\n",
    "# grouping.plot.hist(column='age', by='ageTranche')"
   ]
  },
  {
   "cell_type": "markdown",
   "metadata": {},
   "source": [
    "### Exercice 2 : Un premier nettoyage de données"
   ]
  },
  {
   "cell_type": "markdown",
   "metadata": {},
   "source": [
    "#### Q2. Regardons de plus près les valeurs nulles."
   ]
  },
  {
   "cell_type": "markdown",
   "metadata": {},
   "source": [
    "#### Q1. Récupérez le fichier data_mm_personnes.csv et importez-le dans un dataframe."
   ]
  },
  {
   "cell_type": "code",
   "execution_count": 77,
   "metadata": {},
   "outputs": [],
   "source": [
    "persons = pd.read_csv('./tp_mm_02_res/data_mm_personnes.csv')"
   ]
  },
  {
   "cell_type": "markdown",
   "metadata": {},
   "source": [
    "#### Q2. Regardons de plus près les valeurs nulles."
   ]
  },
  {
   "cell_type": "markdown",
   "metadata": {},
   "source": [
    "#### Q2.1. Déterminez le nombre de valeurs nulles par catégorie. Veillez à n’afficher que les catégories pour lesquelles il existe des valeurs nulles."
   ]
  },
  {
   "cell_type": "code",
   "execution_count": 78,
   "metadata": {},
   "outputs": [
    {
     "name": "stdout",
     "output_type": "stream",
     "text": [
      "date_naissance    1\n",
      "pays              1\n",
      "dtype: int64\n"
     ]
    }
   ],
   "source": [
    "nullcolumns = persons.isna().sum()\n",
    "\n",
    "print(nullcolumns.loc[nullcolumns != 0])"
   ]
  },
  {
   "cell_type": "markdown",
   "metadata": {},
   "source": [
    "#### Q2.2. Affichez toutes les lignes contenant au moins une valeur nulle, grâce à la méthode any."
   ]
  },
  {
   "cell_type": "code",
   "execution_count": 79,
   "metadata": {},
   "outputs": [
    {
     "data": {
      "text/html": [
       "<div>\n",
       "<style scoped>\n",
       "    .dataframe tbody tr th:only-of-type {\n",
       "        vertical-align: middle;\n",
       "    }\n",
       "\n",
       "    .dataframe tbody tr th {\n",
       "        vertical-align: top;\n",
       "    }\n",
       "\n",
       "    .dataframe thead th {\n",
       "        text-align: right;\n",
       "    }\n",
       "</style>\n",
       "<table border=\"1\" class=\"dataframe\">\n",
       "  <thead>\n",
       "    <tr style=\"text-align: right;\">\n",
       "      <th></th>\n",
       "      <th>prenom</th>\n",
       "      <th>email</th>\n",
       "      <th>date_naissance</th>\n",
       "      <th>pays</th>\n",
       "      <th>taille</th>\n",
       "    </tr>\n",
       "  </thead>\n",
       "  <tbody>\n",
       "    <tr>\n",
       "      <th>1</th>\n",
       "      <td>Samuel</td>\n",
       "      <td>samuel_329@example.com</td>\n",
       "      <td>20/09/2001</td>\n",
       "      <td>NaN</td>\n",
       "      <td>1.67m</td>\n",
       "    </tr>\n",
       "    <tr>\n",
       "      <th>6</th>\n",
       "      <td>samuël</td>\n",
       "      <td>samuel_329@example.com</td>\n",
       "      <td>NaN</td>\n",
       "      <td>Bénin</td>\n",
       "      <td>1.45m</td>\n",
       "    </tr>\n",
       "  </tbody>\n",
       "</table>\n",
       "</div>"
      ],
      "text/plain": [
       "   prenom                   email date_naissance   pays taille\n",
       "1  Samuel  samuel_329@example.com     20/09/2001    NaN  1.67m\n",
       "6  samuël  samuel_329@example.com            NaN  Bénin  1.45m"
      ]
     },
     "execution_count": 79,
     "metadata": {},
     "output_type": "execute_result"
    }
   ],
   "source": [
    "persons[persons.isna().any(axis=1)]"
   ]
  },
  {
   "cell_type": "markdown",
   "metadata": {},
   "source": [
    "#### Q3. Les erreurs lexicales: commençons par regarder les pays."
   ]
  },
  {
   "cell_type": "markdown",
   "metadata": {},
   "source": [
    "#### Q3.1. Établissez une liste sans doublon des pays représentés."
   ]
  },
  {
   "cell_type": "code",
   "execution_count": 80,
   "metadata": {},
   "outputs": [
    {
     "data": {
      "text/plain": [
       "0           France\n",
       "2    Côte d'ivoire\n",
       "4       Madagascar\n",
       "5               24\n",
       "6            Bénin\n",
       "Name: pays, dtype: object"
      ]
     },
     "execution_count": 80,
     "metadata": {},
     "output_type": "execute_result"
    }
   ],
   "source": [
    "pays = persons[persons['pays'].notna()]['pays'].drop_duplicates()\n",
    "\n",
    "pays"
   ]
  },
  {
   "cell_type": "markdown",
   "metadata": {},
   "source": [
    "#### Q3.2. Une valeur n’est clairement pas un nom de pays. Affectez la valeur np.NaN à toutes les lignes dont le champ ’pays’ n’est pas correct. La méthode isin(...) pourra vous servir."
   ]
  },
  {
   "cell_type": "code",
   "execution_count": 81,
   "metadata": {},
   "outputs": [
    {
     "data": {
      "text/html": [
       "<div>\n",
       "<style scoped>\n",
       "    .dataframe tbody tr th:only-of-type {\n",
       "        vertical-align: middle;\n",
       "    }\n",
       "\n",
       "    .dataframe tbody tr th {\n",
       "        vertical-align: top;\n",
       "    }\n",
       "\n",
       "    .dataframe thead th {\n",
       "        text-align: right;\n",
       "    }\n",
       "</style>\n",
       "<table border=\"1\" class=\"dataframe\">\n",
       "  <thead>\n",
       "    <tr style=\"text-align: right;\">\n",
       "      <th></th>\n",
       "      <th>prenom</th>\n",
       "      <th>email</th>\n",
       "      <th>date_naissance</th>\n",
       "      <th>pays</th>\n",
       "      <th>taille</th>\n",
       "    </tr>\n",
       "  </thead>\n",
       "  <tbody>\n",
       "    <tr>\n",
       "      <th>0</th>\n",
       "      <td>Leila</td>\n",
       "      <td>leila@example.com</td>\n",
       "      <td>23/01/1990</td>\n",
       "      <td>France</td>\n",
       "      <td>1.49m</td>\n",
       "    </tr>\n",
       "    <tr>\n",
       "      <th>1</th>\n",
       "      <td>Samuel</td>\n",
       "      <td>samuel_329@example.com</td>\n",
       "      <td>20/09/2001</td>\n",
       "      <td>NaN</td>\n",
       "      <td>1.67m</td>\n",
       "    </tr>\n",
       "    <tr>\n",
       "      <th>2</th>\n",
       "      <td>Radia</td>\n",
       "      <td>choupipoune@supermail.eu</td>\n",
       "      <td>12 Sept. 1984</td>\n",
       "      <td>Côte d'ivoire</td>\n",
       "      <td>153cm</td>\n",
       "    </tr>\n",
       "    <tr>\n",
       "      <th>3</th>\n",
       "      <td>Marc</td>\n",
       "      <td>marco23@example.com, mc23@supermail.eu</td>\n",
       "      <td>10/02/1978</td>\n",
       "      <td>France</td>\n",
       "      <td>1.65m</td>\n",
       "    </tr>\n",
       "    <tr>\n",
       "      <th>4</th>\n",
       "      <td>Heri</td>\n",
       "      <td>helloworld@supermail.eu</td>\n",
       "      <td>05/03/2008</td>\n",
       "      <td>Madagascar</td>\n",
       "      <td>1.34m</td>\n",
       "    </tr>\n",
       "    <tr>\n",
       "      <th>5</th>\n",
       "      <td>Hanna</td>\n",
       "      <td>hanna2019@supermail.eu</td>\n",
       "      <td>01/01/1970</td>\n",
       "      <td>NaN</td>\n",
       "      <td>3.45m</td>\n",
       "    </tr>\n",
       "    <tr>\n",
       "      <th>6</th>\n",
       "      <td>samuël</td>\n",
       "      <td>samuel_329@example.com</td>\n",
       "      <td>NaN</td>\n",
       "      <td>Bénin</td>\n",
       "      <td>1.45m</td>\n",
       "    </tr>\n",
       "  </tbody>\n",
       "</table>\n",
       "</div>"
      ],
      "text/plain": [
       "   prenom                                   email date_naissance  \\\n",
       "0   Leila                       leila@example.com     23/01/1990   \n",
       "1  Samuel                  samuel_329@example.com     20/09/2001   \n",
       "2   Radia                choupipoune@supermail.eu  12 Sept. 1984   \n",
       "3    Marc  marco23@example.com, mc23@supermail.eu     10/02/1978   \n",
       "4    Heri                 helloworld@supermail.eu     05/03/2008   \n",
       "5   Hanna                  hanna2019@supermail.eu     01/01/1970   \n",
       "6  samuël                  samuel_329@example.com            NaN   \n",
       "\n",
       "            pays taille  \n",
       "0         France  1.49m  \n",
       "1            NaN  1.67m  \n",
       "2  Côte d'ivoire  153cm  \n",
       "3         France  1.65m  \n",
       "4     Madagascar  1.34m  \n",
       "5            NaN  3.45m  \n",
       "6          Bénin  1.45m  "
      ]
     },
     "execution_count": 81,
     "metadata": {},
     "output_type": "execute_result"
    }
   ],
   "source": [
    "corrected_pays = persons\n",
    "\n",
    "corrected_pays['pays'] = corrected_pays['pays'].where(corrected_pays['pays'].str.isnumeric() == False)\n",
    "\n",
    "corrected_pays\n"
   ]
  },
  {
   "cell_type": "markdown",
   "metadata": {},
   "source": [
    "#### Q4. Intéressons-nous aux tailles et aux erreurs d’irrégularité"
   ]
  },
  {
   "cell_type": "markdown",
   "metadata": {},
   "source": [
    "#### Q4.1. Affichez les données qui ne sont pas exprimées en mètre (par indexation booléenne, grâce à méthode contains(...))."
   ]
  },
  {
   "cell_type": "code",
   "execution_count": 82,
   "metadata": {},
   "outputs": [
    {
     "data": {
      "text/html": [
       "<div>\n",
       "<style scoped>\n",
       "    .dataframe tbody tr th:only-of-type {\n",
       "        vertical-align: middle;\n",
       "    }\n",
       "\n",
       "    .dataframe tbody tr th {\n",
       "        vertical-align: top;\n",
       "    }\n",
       "\n",
       "    .dataframe thead th {\n",
       "        text-align: right;\n",
       "    }\n",
       "</style>\n",
       "<table border=\"1\" class=\"dataframe\">\n",
       "  <thead>\n",
       "    <tr style=\"text-align: right;\">\n",
       "      <th></th>\n",
       "      <th>prenom</th>\n",
       "      <th>email</th>\n",
       "      <th>date_naissance</th>\n",
       "      <th>pays</th>\n",
       "      <th>taille</th>\n",
       "    </tr>\n",
       "  </thead>\n",
       "  <tbody>\n",
       "    <tr>\n",
       "      <th>2</th>\n",
       "      <td>Radia</td>\n",
       "      <td>choupipoune@supermail.eu</td>\n",
       "      <td>12 Sept. 1984</td>\n",
       "      <td>Côte d'ivoire</td>\n",
       "      <td>153cm</td>\n",
       "    </tr>\n",
       "  </tbody>\n",
       "</table>\n",
       "</div>"
      ],
      "text/plain": [
       "  prenom                     email date_naissance           pays taille\n",
       "2  Radia  choupipoune@supermail.eu  12 Sept. 1984  Côte d'ivoire  153cm"
      ]
     },
     "execution_count": 82,
     "metadata": {},
     "output_type": "execute_result"
    }
   ],
   "source": [
    "non_meters = corrected_pays[corrected_pays['taille'].str.contains('cm')]\n",
    "\n",
    "non_meters"
   ]
  },
  {
   "cell_type": "markdown",
   "metadata": {},
   "source": [
    "#### Q4.2. Corrigez cette erreur pour obtenir une colonne homogène et exploitable."
   ]
  },
  {
   "cell_type": "code",
   "execution_count": 83,
   "metadata": {},
   "outputs": [
    {
     "data": {
      "text/html": [
       "<div>\n",
       "<style scoped>\n",
       "    .dataframe tbody tr th:only-of-type {\n",
       "        vertical-align: middle;\n",
       "    }\n",
       "\n",
       "    .dataframe tbody tr th {\n",
       "        vertical-align: top;\n",
       "    }\n",
       "\n",
       "    .dataframe thead th {\n",
       "        text-align: right;\n",
       "    }\n",
       "</style>\n",
       "<table border=\"1\" class=\"dataframe\">\n",
       "  <thead>\n",
       "    <tr style=\"text-align: right;\">\n",
       "      <th></th>\n",
       "      <th>prenom</th>\n",
       "      <th>email</th>\n",
       "      <th>date_naissance</th>\n",
       "      <th>pays</th>\n",
       "      <th>taille</th>\n",
       "    </tr>\n",
       "  </thead>\n",
       "  <tbody>\n",
       "    <tr>\n",
       "      <th>0</th>\n",
       "      <td>Leila</td>\n",
       "      <td>leila@example.com</td>\n",
       "      <td>23/01/1990</td>\n",
       "      <td>France</td>\n",
       "      <td>1.49m</td>\n",
       "    </tr>\n",
       "    <tr>\n",
       "      <th>1</th>\n",
       "      <td>Samuel</td>\n",
       "      <td>samuel_329@example.com</td>\n",
       "      <td>20/09/2001</td>\n",
       "      <td>NaN</td>\n",
       "      <td>1.67m</td>\n",
       "    </tr>\n",
       "    <tr>\n",
       "      <th>2</th>\n",
       "      <td>Radia</td>\n",
       "      <td>choupipoune@supermail.eu</td>\n",
       "      <td>12 Sept. 1984</td>\n",
       "      <td>Côte d'ivoire</td>\n",
       "      <td>1.53m</td>\n",
       "    </tr>\n",
       "    <tr>\n",
       "      <th>3</th>\n",
       "      <td>Marc</td>\n",
       "      <td>marco23@example.com, mc23@supermail.eu</td>\n",
       "      <td>10/02/1978</td>\n",
       "      <td>France</td>\n",
       "      <td>1.65m</td>\n",
       "    </tr>\n",
       "    <tr>\n",
       "      <th>4</th>\n",
       "      <td>Heri</td>\n",
       "      <td>helloworld@supermail.eu</td>\n",
       "      <td>05/03/2008</td>\n",
       "      <td>Madagascar</td>\n",
       "      <td>1.34m</td>\n",
       "    </tr>\n",
       "    <tr>\n",
       "      <th>5</th>\n",
       "      <td>Hanna</td>\n",
       "      <td>hanna2019@supermail.eu</td>\n",
       "      <td>01/01/1970</td>\n",
       "      <td>NaN</td>\n",
       "      <td>3.45m</td>\n",
       "    </tr>\n",
       "    <tr>\n",
       "      <th>6</th>\n",
       "      <td>samuël</td>\n",
       "      <td>samuel_329@example.com</td>\n",
       "      <td>NaN</td>\n",
       "      <td>Bénin</td>\n",
       "      <td>1.45m</td>\n",
       "    </tr>\n",
       "  </tbody>\n",
       "</table>\n",
       "</div>"
      ],
      "text/plain": [
       "   prenom                                   email date_naissance  \\\n",
       "0   Leila                       leila@example.com     23/01/1990   \n",
       "1  Samuel                  samuel_329@example.com     20/09/2001   \n",
       "2   Radia                choupipoune@supermail.eu  12 Sept. 1984   \n",
       "3    Marc  marco23@example.com, mc23@supermail.eu     10/02/1978   \n",
       "4    Heri                 helloworld@supermail.eu     05/03/2008   \n",
       "5   Hanna                  hanna2019@supermail.eu     01/01/1970   \n",
       "6  samuël                  samuel_329@example.com            NaN   \n",
       "\n",
       "            pays taille  \n",
       "0         France  1.49m  \n",
       "1            NaN  1.67m  \n",
       "2  Côte d'ivoire  1.53m  \n",
       "3         France  1.65m  \n",
       "4     Madagascar  1.34m  \n",
       "5            NaN  3.45m  \n",
       "6          Bénin  1.45m  "
      ]
     },
     "execution_count": 83,
     "metadata": {},
     "output_type": "execute_result"
    }
   ],
   "source": [
    "corrected_meters = corrected_pays\n",
    "\n",
    "def toMeter(value: str):\n",
    "\tif value.endswith('cm'):\n",
    "\t\tvalue = value.replace('cm', '')\n",
    "\t\tvalue = str(int(value) / 100)\n",
    "\t\tvalue += 'm'\n",
    "\treturn value\n",
    "\n",
    "meters_col = corrected_meters.taille.apply(toMeter)\n",
    "corrected_meters.taille = meters_col\n",
    "\n",
    "\n",
    "\n",
    "corrected_meters"
   ]
  },
  {
   "cell_type": "markdown",
   "metadata": {},
   "source": [
    "#### Q4.3. Créez une nouvelle colonne ’taille_cm’ entière contenant les tailles en centimètres (et uniquement les valeurs numériques, pas d’unité).\n"
   ]
  },
  {
   "cell_type": "code",
   "execution_count": 84,
   "metadata": {},
   "outputs": [
    {
     "data": {
      "text/html": [
       "<div>\n",
       "<style scoped>\n",
       "    .dataframe tbody tr th:only-of-type {\n",
       "        vertical-align: middle;\n",
       "    }\n",
       "\n",
       "    .dataframe tbody tr th {\n",
       "        vertical-align: top;\n",
       "    }\n",
       "\n",
       "    .dataframe thead th {\n",
       "        text-align: right;\n",
       "    }\n",
       "</style>\n",
       "<table border=\"1\" class=\"dataframe\">\n",
       "  <thead>\n",
       "    <tr style=\"text-align: right;\">\n",
       "      <th></th>\n",
       "      <th>prenom</th>\n",
       "      <th>email</th>\n",
       "      <th>date_naissance</th>\n",
       "      <th>pays</th>\n",
       "      <th>taille</th>\n",
       "      <th>taille_cm</th>\n",
       "    </tr>\n",
       "  </thead>\n",
       "  <tbody>\n",
       "    <tr>\n",
       "      <th>0</th>\n",
       "      <td>Leila</td>\n",
       "      <td>leila@example.com</td>\n",
       "      <td>23/01/1990</td>\n",
       "      <td>France</td>\n",
       "      <td>1.49m</td>\n",
       "      <td>149</td>\n",
       "    </tr>\n",
       "    <tr>\n",
       "      <th>1</th>\n",
       "      <td>Samuel</td>\n",
       "      <td>samuel_329@example.com</td>\n",
       "      <td>20/09/2001</td>\n",
       "      <td>NaN</td>\n",
       "      <td>1.67m</td>\n",
       "      <td>167</td>\n",
       "    </tr>\n",
       "    <tr>\n",
       "      <th>2</th>\n",
       "      <td>Radia</td>\n",
       "      <td>choupipoune@supermail.eu</td>\n",
       "      <td>12 Sept. 1984</td>\n",
       "      <td>Côte d'ivoire</td>\n",
       "      <td>1.53m</td>\n",
       "      <td>153</td>\n",
       "    </tr>\n",
       "    <tr>\n",
       "      <th>3</th>\n",
       "      <td>Marc</td>\n",
       "      <td>marco23@example.com, mc23@supermail.eu</td>\n",
       "      <td>10/02/1978</td>\n",
       "      <td>France</td>\n",
       "      <td>1.65m</td>\n",
       "      <td>165</td>\n",
       "    </tr>\n",
       "    <tr>\n",
       "      <th>4</th>\n",
       "      <td>Heri</td>\n",
       "      <td>helloworld@supermail.eu</td>\n",
       "      <td>05/03/2008</td>\n",
       "      <td>Madagascar</td>\n",
       "      <td>1.34m</td>\n",
       "      <td>134</td>\n",
       "    </tr>\n",
       "    <tr>\n",
       "      <th>5</th>\n",
       "      <td>Hanna</td>\n",
       "      <td>hanna2019@supermail.eu</td>\n",
       "      <td>01/01/1970</td>\n",
       "      <td>NaN</td>\n",
       "      <td>3.45m</td>\n",
       "      <td>345</td>\n",
       "    </tr>\n",
       "    <tr>\n",
       "      <th>6</th>\n",
       "      <td>samuël</td>\n",
       "      <td>samuel_329@example.com</td>\n",
       "      <td>NaN</td>\n",
       "      <td>Bénin</td>\n",
       "      <td>1.45m</td>\n",
       "      <td>145</td>\n",
       "    </tr>\n",
       "  </tbody>\n",
       "</table>\n",
       "</div>"
      ],
      "text/plain": [
       "   prenom                                   email date_naissance  \\\n",
       "0   Leila                       leila@example.com     23/01/1990   \n",
       "1  Samuel                  samuel_329@example.com     20/09/2001   \n",
       "2   Radia                choupipoune@supermail.eu  12 Sept. 1984   \n",
       "3    Marc  marco23@example.com, mc23@supermail.eu     10/02/1978   \n",
       "4    Heri                 helloworld@supermail.eu     05/03/2008   \n",
       "5   Hanna                  hanna2019@supermail.eu     01/01/1970   \n",
       "6  samuël                  samuel_329@example.com            NaN   \n",
       "\n",
       "            pays taille  taille_cm  \n",
       "0         France  1.49m        149  \n",
       "1            NaN  1.67m        167  \n",
       "2  Côte d'ivoire  1.53m        153  \n",
       "3         France  1.65m        165  \n",
       "4     Madagascar  1.34m        134  \n",
       "5            NaN  3.45m        345  \n",
       "6          Bénin  1.45m        145  "
      ]
     },
     "execution_count": 84,
     "metadata": {},
     "output_type": "execute_result"
    }
   ],
   "source": [
    "with_centimeters = corrected_meters\n",
    "\n",
    "with_centimeters['taille_cm'] = with_centimeters['taille']\n",
    "\n",
    "def to_centimeters(value: str):\n",
    "\treturn int(float(value.replace('m', '')) * 100)\n",
    "\n",
    "with_centimeters['taille_cm'] = with_centimeters['taille_cm'].apply(to_centimeters)\n",
    "\n",
    "with_centimeters"
   ]
  },
  {
   "cell_type": "markdown",
   "metadata": {},
   "source": [
    "#### Q4.4. Supprimez la colonne taille dont le format ne permet pas son exploitation."
   ]
  },
  {
   "cell_type": "code",
   "execution_count": 85,
   "metadata": {},
   "outputs": [
    {
     "data": {
      "text/html": [
       "<div>\n",
       "<style scoped>\n",
       "    .dataframe tbody tr th:only-of-type {\n",
       "        vertical-align: middle;\n",
       "    }\n",
       "\n",
       "    .dataframe tbody tr th {\n",
       "        vertical-align: top;\n",
       "    }\n",
       "\n",
       "    .dataframe thead th {\n",
       "        text-align: right;\n",
       "    }\n",
       "</style>\n",
       "<table border=\"1\" class=\"dataframe\">\n",
       "  <thead>\n",
       "    <tr style=\"text-align: right;\">\n",
       "      <th></th>\n",
       "      <th>prenom</th>\n",
       "      <th>email</th>\n",
       "      <th>date_naissance</th>\n",
       "      <th>pays</th>\n",
       "      <th>taille_cm</th>\n",
       "    </tr>\n",
       "  </thead>\n",
       "  <tbody>\n",
       "    <tr>\n",
       "      <th>0</th>\n",
       "      <td>Leila</td>\n",
       "      <td>leila@example.com</td>\n",
       "      <td>23/01/1990</td>\n",
       "      <td>France</td>\n",
       "      <td>149</td>\n",
       "    </tr>\n",
       "    <tr>\n",
       "      <th>1</th>\n",
       "      <td>Samuel</td>\n",
       "      <td>samuel_329@example.com</td>\n",
       "      <td>20/09/2001</td>\n",
       "      <td>NaN</td>\n",
       "      <td>167</td>\n",
       "    </tr>\n",
       "    <tr>\n",
       "      <th>2</th>\n",
       "      <td>Radia</td>\n",
       "      <td>choupipoune@supermail.eu</td>\n",
       "      <td>12 Sept. 1984</td>\n",
       "      <td>Côte d'ivoire</td>\n",
       "      <td>153</td>\n",
       "    </tr>\n",
       "    <tr>\n",
       "      <th>3</th>\n",
       "      <td>Marc</td>\n",
       "      <td>marco23@example.com, mc23@supermail.eu</td>\n",
       "      <td>10/02/1978</td>\n",
       "      <td>France</td>\n",
       "      <td>165</td>\n",
       "    </tr>\n",
       "    <tr>\n",
       "      <th>4</th>\n",
       "      <td>Heri</td>\n",
       "      <td>helloworld@supermail.eu</td>\n",
       "      <td>05/03/2008</td>\n",
       "      <td>Madagascar</td>\n",
       "      <td>134</td>\n",
       "    </tr>\n",
       "    <tr>\n",
       "      <th>5</th>\n",
       "      <td>Hanna</td>\n",
       "      <td>hanna2019@supermail.eu</td>\n",
       "      <td>01/01/1970</td>\n",
       "      <td>NaN</td>\n",
       "      <td>345</td>\n",
       "    </tr>\n",
       "    <tr>\n",
       "      <th>6</th>\n",
       "      <td>samuël</td>\n",
       "      <td>samuel_329@example.com</td>\n",
       "      <td>NaN</td>\n",
       "      <td>Bénin</td>\n",
       "      <td>145</td>\n",
       "    </tr>\n",
       "  </tbody>\n",
       "</table>\n",
       "</div>"
      ],
      "text/plain": [
       "   prenom                                   email date_naissance  \\\n",
       "0   Leila                       leila@example.com     23/01/1990   \n",
       "1  Samuel                  samuel_329@example.com     20/09/2001   \n",
       "2   Radia                choupipoune@supermail.eu  12 Sept. 1984   \n",
       "3    Marc  marco23@example.com, mc23@supermail.eu     10/02/1978   \n",
       "4    Heri                 helloworld@supermail.eu     05/03/2008   \n",
       "5   Hanna                  hanna2019@supermail.eu     01/01/1970   \n",
       "6  samuël                  samuel_329@example.com            NaN   \n",
       "\n",
       "            pays  taille_cm  \n",
       "0         France        149  \n",
       "1            NaN        167  \n",
       "2  Côte d'ivoire        153  \n",
       "3         France        165  \n",
       "4     Madagascar        134  \n",
       "5            NaN        345  \n",
       "6          Bénin        145  "
      ]
     },
     "execution_count": 85,
     "metadata": {},
     "output_type": "execute_result"
    }
   ],
   "source": [
    "without_meters = with_centimeters\n",
    "\n",
    "without_meters = without_meters.drop(columns=['taille'])\n",
    "\n",
    "without_meters"
   ]
  },
  {
   "cell_type": "markdown",
   "metadata": {},
   "source": [
    "#### Q4.5. Pour plus d’aisance, renommez la colonne ’taille_cm’ en taille."
   ]
  },
  {
   "cell_type": "code",
   "execution_count": 86,
   "metadata": {},
   "outputs": [
    {
     "data": {
      "text/html": [
       "<div>\n",
       "<style scoped>\n",
       "    .dataframe tbody tr th:only-of-type {\n",
       "        vertical-align: middle;\n",
       "    }\n",
       "\n",
       "    .dataframe tbody tr th {\n",
       "        vertical-align: top;\n",
       "    }\n",
       "\n",
       "    .dataframe thead th {\n",
       "        text-align: right;\n",
       "    }\n",
       "</style>\n",
       "<table border=\"1\" class=\"dataframe\">\n",
       "  <thead>\n",
       "    <tr style=\"text-align: right;\">\n",
       "      <th></th>\n",
       "      <th>prenom</th>\n",
       "      <th>email</th>\n",
       "      <th>date_naissance</th>\n",
       "      <th>pays</th>\n",
       "      <th>taille</th>\n",
       "    </tr>\n",
       "  </thead>\n",
       "  <tbody>\n",
       "    <tr>\n",
       "      <th>0</th>\n",
       "      <td>Leila</td>\n",
       "      <td>leila@example.com</td>\n",
       "      <td>23/01/1990</td>\n",
       "      <td>France</td>\n",
       "      <td>149</td>\n",
       "    </tr>\n",
       "    <tr>\n",
       "      <th>1</th>\n",
       "      <td>Samuel</td>\n",
       "      <td>samuel_329@example.com</td>\n",
       "      <td>20/09/2001</td>\n",
       "      <td>NaN</td>\n",
       "      <td>167</td>\n",
       "    </tr>\n",
       "    <tr>\n",
       "      <th>2</th>\n",
       "      <td>Radia</td>\n",
       "      <td>choupipoune@supermail.eu</td>\n",
       "      <td>12 Sept. 1984</td>\n",
       "      <td>Côte d'ivoire</td>\n",
       "      <td>153</td>\n",
       "    </tr>\n",
       "    <tr>\n",
       "      <th>3</th>\n",
       "      <td>Marc</td>\n",
       "      <td>marco23@example.com, mc23@supermail.eu</td>\n",
       "      <td>10/02/1978</td>\n",
       "      <td>France</td>\n",
       "      <td>165</td>\n",
       "    </tr>\n",
       "    <tr>\n",
       "      <th>4</th>\n",
       "      <td>Heri</td>\n",
       "      <td>helloworld@supermail.eu</td>\n",
       "      <td>05/03/2008</td>\n",
       "      <td>Madagascar</td>\n",
       "      <td>134</td>\n",
       "    </tr>\n",
       "    <tr>\n",
       "      <th>5</th>\n",
       "      <td>Hanna</td>\n",
       "      <td>hanna2019@supermail.eu</td>\n",
       "      <td>01/01/1970</td>\n",
       "      <td>NaN</td>\n",
       "      <td>345</td>\n",
       "    </tr>\n",
       "    <tr>\n",
       "      <th>6</th>\n",
       "      <td>samuël</td>\n",
       "      <td>samuel_329@example.com</td>\n",
       "      <td>NaN</td>\n",
       "      <td>Bénin</td>\n",
       "      <td>145</td>\n",
       "    </tr>\n",
       "  </tbody>\n",
       "</table>\n",
       "</div>"
      ],
      "text/plain": [
       "   prenom                                   email date_naissance  \\\n",
       "0   Leila                       leila@example.com     23/01/1990   \n",
       "1  Samuel                  samuel_329@example.com     20/09/2001   \n",
       "2   Radia                choupipoune@supermail.eu  12 Sept. 1984   \n",
       "3    Marc  marco23@example.com, mc23@supermail.eu     10/02/1978   \n",
       "4    Heri                 helloworld@supermail.eu     05/03/2008   \n",
       "5   Hanna                  hanna2019@supermail.eu     01/01/1970   \n",
       "6  samuël                  samuel_329@example.com            NaN   \n",
       "\n",
       "            pays  taille  \n",
       "0         France     149  \n",
       "1            NaN     167  \n",
       "2  Côte d'ivoire     153  \n",
       "3         France     165  \n",
       "4     Madagascar     134  \n",
       "5            NaN     345  \n",
       "6          Bénin     145  "
      ]
     },
     "execution_count": 86,
     "metadata": {},
     "output_type": "execute_result"
    }
   ],
   "source": [
    "renamed_as_taille = without_meters\n",
    "\n",
    "renamed_as_taille = renamed_as_taille.rename(columns={\"taille_cm\":\"taille\"})\n",
    "\n",
    "renamed_as_taille"
   ]
  },
  {
   "cell_type": "markdown",
   "metadata": {},
   "source": [
    "#### Q4.6. On peut traiter les colonnes de manière plus automatique. Voici les poids correspondants aux personnes. Ajoutez une colonne ’poids’ contenant ces données à votre dataframe.\n",
    "\n",
    "```python\n",
    "poids = [\"65000g\", \"88400g\", \"68000g\", \"75200g\", \"00Kg\", \"70200g\", \"70200g\"]\n",
    "```"
   ]
  },
  {
   "cell_type": "code",
   "execution_count": 87,
   "metadata": {},
   "outputs": [
    {
     "data": {
      "text/html": [
       "<div>\n",
       "<style scoped>\n",
       "    .dataframe tbody tr th:only-of-type {\n",
       "        vertical-align: middle;\n",
       "    }\n",
       "\n",
       "    .dataframe tbody tr th {\n",
       "        vertical-align: top;\n",
       "    }\n",
       "\n",
       "    .dataframe thead th {\n",
       "        text-align: right;\n",
       "    }\n",
       "</style>\n",
       "<table border=\"1\" class=\"dataframe\">\n",
       "  <thead>\n",
       "    <tr style=\"text-align: right;\">\n",
       "      <th></th>\n",
       "      <th>prenom</th>\n",
       "      <th>email</th>\n",
       "      <th>date_naissance</th>\n",
       "      <th>pays</th>\n",
       "      <th>taille</th>\n",
       "      <th>poids</th>\n",
       "    </tr>\n",
       "  </thead>\n",
       "  <tbody>\n",
       "    <tr>\n",
       "      <th>0</th>\n",
       "      <td>Leila</td>\n",
       "      <td>leila@example.com</td>\n",
       "      <td>23/01/1990</td>\n",
       "      <td>France</td>\n",
       "      <td>149</td>\n",
       "      <td>65000g</td>\n",
       "    </tr>\n",
       "    <tr>\n",
       "      <th>1</th>\n",
       "      <td>Samuel</td>\n",
       "      <td>samuel_329@example.com</td>\n",
       "      <td>20/09/2001</td>\n",
       "      <td>NaN</td>\n",
       "      <td>167</td>\n",
       "      <td>88400g</td>\n",
       "    </tr>\n",
       "    <tr>\n",
       "      <th>2</th>\n",
       "      <td>Radia</td>\n",
       "      <td>choupipoune@supermail.eu</td>\n",
       "      <td>12 Sept. 1984</td>\n",
       "      <td>Côte d'ivoire</td>\n",
       "      <td>153</td>\n",
       "      <td>68000g</td>\n",
       "    </tr>\n",
       "    <tr>\n",
       "      <th>3</th>\n",
       "      <td>Marc</td>\n",
       "      <td>marco23@example.com, mc23@supermail.eu</td>\n",
       "      <td>10/02/1978</td>\n",
       "      <td>France</td>\n",
       "      <td>165</td>\n",
       "      <td>75200g</td>\n",
       "    </tr>\n",
       "    <tr>\n",
       "      <th>4</th>\n",
       "      <td>Heri</td>\n",
       "      <td>helloworld@supermail.eu</td>\n",
       "      <td>05/03/2008</td>\n",
       "      <td>Madagascar</td>\n",
       "      <td>134</td>\n",
       "      <td>00Kg</td>\n",
       "    </tr>\n",
       "    <tr>\n",
       "      <th>5</th>\n",
       "      <td>Hanna</td>\n",
       "      <td>hanna2019@supermail.eu</td>\n",
       "      <td>01/01/1970</td>\n",
       "      <td>NaN</td>\n",
       "      <td>345</td>\n",
       "      <td>70200g</td>\n",
       "    </tr>\n",
       "    <tr>\n",
       "      <th>6</th>\n",
       "      <td>samuël</td>\n",
       "      <td>samuel_329@example.com</td>\n",
       "      <td>NaN</td>\n",
       "      <td>Bénin</td>\n",
       "      <td>145</td>\n",
       "      <td>70200g</td>\n",
       "    </tr>\n",
       "  </tbody>\n",
       "</table>\n",
       "</div>"
      ],
      "text/plain": [
       "   prenom                                   email date_naissance  \\\n",
       "0   Leila                       leila@example.com     23/01/1990   \n",
       "1  Samuel                  samuel_329@example.com     20/09/2001   \n",
       "2   Radia                choupipoune@supermail.eu  12 Sept. 1984   \n",
       "3    Marc  marco23@example.com, mc23@supermail.eu     10/02/1978   \n",
       "4    Heri                 helloworld@supermail.eu     05/03/2008   \n",
       "5   Hanna                  hanna2019@supermail.eu     01/01/1970   \n",
       "6  samuël                  samuel_329@example.com            NaN   \n",
       "\n",
       "            pays  taille   poids  \n",
       "0         France     149  65000g  \n",
       "1            NaN     167  88400g  \n",
       "2  Côte d'ivoire     153  68000g  \n",
       "3         France     165  75200g  \n",
       "4     Madagascar     134    00Kg  \n",
       "5            NaN     345  70200g  \n",
       "6          Bénin     145  70200g  "
      ]
     },
     "execution_count": 87,
     "metadata": {},
     "output_type": "execute_result"
    }
   ],
   "source": [
    "poids = [\"65000g\", \"88400g\", \"68000g\", \"75200g\", \"00Kg\", \"70200g\", \"70200g\"]\n",
    "\n",
    "poids_df = renamed_as_taille\n",
    "\n",
    "poids_df['poids'] = poids\n",
    "\n",
    "poids_df"
   ]
  },
  {
   "cell_type": "markdown",
   "metadata": {},
   "source": [
    "#### Q4.7. Supprimez le dernier caractère dans cette colonne (pour normalement obtenir uniquement des chiffres). On fermera volontairement les yeux sur les éventuelles erreurs dans cette liste. Convertissez ensuite la colonne poids en valeurs numériques grâce à la méthode pd.to_numeric(...) tout en forçant les erreurs de conversion à des valeurs manquantes (np.NaN), via l’option errors."
   ]
  },
  {
   "cell_type": "code",
   "execution_count": 88,
   "metadata": {},
   "outputs": [
    {
     "data": {
      "text/html": [
       "<div>\n",
       "<style scoped>\n",
       "    .dataframe tbody tr th:only-of-type {\n",
       "        vertical-align: middle;\n",
       "    }\n",
       "\n",
       "    .dataframe tbody tr th {\n",
       "        vertical-align: top;\n",
       "    }\n",
       "\n",
       "    .dataframe thead th {\n",
       "        text-align: right;\n",
       "    }\n",
       "</style>\n",
       "<table border=\"1\" class=\"dataframe\">\n",
       "  <thead>\n",
       "    <tr style=\"text-align: right;\">\n",
       "      <th></th>\n",
       "      <th>prenom</th>\n",
       "      <th>email</th>\n",
       "      <th>date_naissance</th>\n",
       "      <th>pays</th>\n",
       "      <th>taille</th>\n",
       "      <th>poids</th>\n",
       "    </tr>\n",
       "  </thead>\n",
       "  <tbody>\n",
       "    <tr>\n",
       "      <th>0</th>\n",
       "      <td>Leila</td>\n",
       "      <td>leila@example.com</td>\n",
       "      <td>23/01/1990</td>\n",
       "      <td>France</td>\n",
       "      <td>149</td>\n",
       "      <td>65000.0</td>\n",
       "    </tr>\n",
       "    <tr>\n",
       "      <th>1</th>\n",
       "      <td>Samuel</td>\n",
       "      <td>samuel_329@example.com</td>\n",
       "      <td>20/09/2001</td>\n",
       "      <td>NaN</td>\n",
       "      <td>167</td>\n",
       "      <td>88400.0</td>\n",
       "    </tr>\n",
       "    <tr>\n",
       "      <th>2</th>\n",
       "      <td>Radia</td>\n",
       "      <td>choupipoune@supermail.eu</td>\n",
       "      <td>12 Sept. 1984</td>\n",
       "      <td>Côte d'ivoire</td>\n",
       "      <td>153</td>\n",
       "      <td>68000.0</td>\n",
       "    </tr>\n",
       "    <tr>\n",
       "      <th>3</th>\n",
       "      <td>Marc</td>\n",
       "      <td>marco23@example.com, mc23@supermail.eu</td>\n",
       "      <td>10/02/1978</td>\n",
       "      <td>France</td>\n",
       "      <td>165</td>\n",
       "      <td>75200.0</td>\n",
       "    </tr>\n",
       "    <tr>\n",
       "      <th>4</th>\n",
       "      <td>Heri</td>\n",
       "      <td>helloworld@supermail.eu</td>\n",
       "      <td>05/03/2008</td>\n",
       "      <td>Madagascar</td>\n",
       "      <td>134</td>\n",
       "      <td>NaN</td>\n",
       "    </tr>\n",
       "    <tr>\n",
       "      <th>5</th>\n",
       "      <td>Hanna</td>\n",
       "      <td>hanna2019@supermail.eu</td>\n",
       "      <td>01/01/1970</td>\n",
       "      <td>NaN</td>\n",
       "      <td>345</td>\n",
       "      <td>70200.0</td>\n",
       "    </tr>\n",
       "    <tr>\n",
       "      <th>6</th>\n",
       "      <td>samuël</td>\n",
       "      <td>samuel_329@example.com</td>\n",
       "      <td>NaN</td>\n",
       "      <td>Bénin</td>\n",
       "      <td>145</td>\n",
       "      <td>70200.0</td>\n",
       "    </tr>\n",
       "  </tbody>\n",
       "</table>\n",
       "</div>"
      ],
      "text/plain": [
       "   prenom                                   email date_naissance  \\\n",
       "0   Leila                       leila@example.com     23/01/1990   \n",
       "1  Samuel                  samuel_329@example.com     20/09/2001   \n",
       "2   Radia                choupipoune@supermail.eu  12 Sept. 1984   \n",
       "3    Marc  marco23@example.com, mc23@supermail.eu     10/02/1978   \n",
       "4    Heri                 helloworld@supermail.eu     05/03/2008   \n",
       "5   Hanna                  hanna2019@supermail.eu     01/01/1970   \n",
       "6  samuël                  samuel_329@example.com            NaN   \n",
       "\n",
       "            pays  taille    poids  \n",
       "0         France     149  65000.0  \n",
       "1            NaN     167  88400.0  \n",
       "2  Côte d'ivoire     153  68000.0  \n",
       "3         France     165  75200.0  \n",
       "4     Madagascar     134      NaN  \n",
       "5            NaN     345  70200.0  \n",
       "6          Bénin     145  70200.0  "
      ]
     },
     "execution_count": 88,
     "metadata": {},
     "output_type": "execute_result"
    }
   ],
   "source": [
    "poids_as_numbers = poids_df\n",
    "\n",
    "poids_as_numbers['poids'] = poids_as_numbers['poids'].apply(lambda x : x.replace('g', ''))\n",
    "\n",
    "poids_as_numbers['poids'] = pd.to_numeric(poids_as_numbers['poids'], errors='coerce')\n",
    "\n",
    "poids_as_numbers"
   ]
  },
  {
   "cell_type": "markdown",
   "metadata": {},
   "source": [
    "#### Q4.8. Remplacez les éventuelles valeurs manquantes de la colonne ’poids’ par la moyenne des valeurs existantes."
   ]
  },
  {
   "cell_type": "code",
   "execution_count": 89,
   "metadata": {},
   "outputs": [
    {
     "data": {
      "text/html": [
       "<div>\n",
       "<style scoped>\n",
       "    .dataframe tbody tr th:only-of-type {\n",
       "        vertical-align: middle;\n",
       "    }\n",
       "\n",
       "    .dataframe tbody tr th {\n",
       "        vertical-align: top;\n",
       "    }\n",
       "\n",
       "    .dataframe thead th {\n",
       "        text-align: right;\n",
       "    }\n",
       "</style>\n",
       "<table border=\"1\" class=\"dataframe\">\n",
       "  <thead>\n",
       "    <tr style=\"text-align: right;\">\n",
       "      <th></th>\n",
       "      <th>prenom</th>\n",
       "      <th>email</th>\n",
       "      <th>date_naissance</th>\n",
       "      <th>pays</th>\n",
       "      <th>taille</th>\n",
       "      <th>poids</th>\n",
       "    </tr>\n",
       "  </thead>\n",
       "  <tbody>\n",
       "    <tr>\n",
       "      <th>0</th>\n",
       "      <td>Leila</td>\n",
       "      <td>leila@example.com</td>\n",
       "      <td>23/01/1990</td>\n",
       "      <td>France</td>\n",
       "      <td>149</td>\n",
       "      <td>65000.000000</td>\n",
       "    </tr>\n",
       "    <tr>\n",
       "      <th>1</th>\n",
       "      <td>Samuel</td>\n",
       "      <td>samuel_329@example.com</td>\n",
       "      <td>20/09/2001</td>\n",
       "      <td>NaN</td>\n",
       "      <td>167</td>\n",
       "      <td>88400.000000</td>\n",
       "    </tr>\n",
       "    <tr>\n",
       "      <th>2</th>\n",
       "      <td>Radia</td>\n",
       "      <td>choupipoune@supermail.eu</td>\n",
       "      <td>12 Sept. 1984</td>\n",
       "      <td>Côte d'ivoire</td>\n",
       "      <td>153</td>\n",
       "      <td>68000.000000</td>\n",
       "    </tr>\n",
       "    <tr>\n",
       "      <th>3</th>\n",
       "      <td>Marc</td>\n",
       "      <td>marco23@example.com, mc23@supermail.eu</td>\n",
       "      <td>10/02/1978</td>\n",
       "      <td>France</td>\n",
       "      <td>165</td>\n",
       "      <td>75200.000000</td>\n",
       "    </tr>\n",
       "    <tr>\n",
       "      <th>4</th>\n",
       "      <td>Heri</td>\n",
       "      <td>helloworld@supermail.eu</td>\n",
       "      <td>05/03/2008</td>\n",
       "      <td>Madagascar</td>\n",
       "      <td>134</td>\n",
       "      <td>72833.333333</td>\n",
       "    </tr>\n",
       "    <tr>\n",
       "      <th>5</th>\n",
       "      <td>Hanna</td>\n",
       "      <td>hanna2019@supermail.eu</td>\n",
       "      <td>01/01/1970</td>\n",
       "      <td>NaN</td>\n",
       "      <td>345</td>\n",
       "      <td>70200.000000</td>\n",
       "    </tr>\n",
       "    <tr>\n",
       "      <th>6</th>\n",
       "      <td>samuël</td>\n",
       "      <td>samuel_329@example.com</td>\n",
       "      <td>NaN</td>\n",
       "      <td>Bénin</td>\n",
       "      <td>145</td>\n",
       "      <td>70200.000000</td>\n",
       "    </tr>\n",
       "  </tbody>\n",
       "</table>\n",
       "</div>"
      ],
      "text/plain": [
       "   prenom                                   email date_naissance  \\\n",
       "0   Leila                       leila@example.com     23/01/1990   \n",
       "1  Samuel                  samuel_329@example.com     20/09/2001   \n",
       "2   Radia                choupipoune@supermail.eu  12 Sept. 1984   \n",
       "3    Marc  marco23@example.com, mc23@supermail.eu     10/02/1978   \n",
       "4    Heri                 helloworld@supermail.eu     05/03/2008   \n",
       "5   Hanna                  hanna2019@supermail.eu     01/01/1970   \n",
       "6  samuël                  samuel_329@example.com            NaN   \n",
       "\n",
       "            pays  taille         poids  \n",
       "0         France     149  65000.000000  \n",
       "1            NaN     167  88400.000000  \n",
       "2  Côte d'ivoire     153  68000.000000  \n",
       "3         France     165  75200.000000  \n",
       "4     Madagascar     134  72833.333333  \n",
       "5            NaN     345  70200.000000  \n",
       "6          Bénin     145  70200.000000  "
      ]
     },
     "execution_count": 89,
     "metadata": {},
     "output_type": "execute_result"
    }
   ],
   "source": [
    "moy_poids = poids_as_numbers\n",
    "\n",
    "moy = moy_poids['poids'].mean()\n",
    "\n",
    "def default_to_avg(value):\n",
    "\tif pd.isna(value):\n",
    "\t\treturn moy\n",
    "\treturn value\n",
    "\n",
    "moy_poids['poids'] = moy_poids['poids'].apply(default_to_avg)\n",
    "\n",
    "moy_poids"
   ]
  },
  {
   "cell_type": "markdown",
   "metadata": {},
   "source": [
    "#### Q5. Intéressons-nous maintenant aux courriels et aux erreurs de formattage."
   ]
  },
  {
   "cell_type": "markdown",
   "metadata": {},
   "source": [
    "#### Q5.1. Certaines lignes contiennent plusieurs valeurs au lieu d’une. Générez une série déterminant le nombre de caractère ’@’ dans chaque valeur de la colonne ’email’. Affichez les données où plusieurs courriels sont fournis."
   ]
  },
  {
   "cell_type": "code",
   "execution_count": 90,
   "metadata": {},
   "outputs": [
    {
     "data": {
      "text/html": [
       "<div>\n",
       "<style scoped>\n",
       "    .dataframe tbody tr th:only-of-type {\n",
       "        vertical-align: middle;\n",
       "    }\n",
       "\n",
       "    .dataframe tbody tr th {\n",
       "        vertical-align: top;\n",
       "    }\n",
       "\n",
       "    .dataframe thead th {\n",
       "        text-align: right;\n",
       "    }\n",
       "</style>\n",
       "<table border=\"1\" class=\"dataframe\">\n",
       "  <thead>\n",
       "    <tr style=\"text-align: right;\">\n",
       "      <th></th>\n",
       "      <th>prenom</th>\n",
       "      <th>email</th>\n",
       "      <th>date_naissance</th>\n",
       "      <th>pays</th>\n",
       "      <th>taille</th>\n",
       "      <th>poids</th>\n",
       "    </tr>\n",
       "  </thead>\n",
       "  <tbody>\n",
       "    <tr>\n",
       "      <th>3</th>\n",
       "      <td>Marc</td>\n",
       "      <td>marco23@example.com, mc23@supermail.eu</td>\n",
       "      <td>10/02/1978</td>\n",
       "      <td>France</td>\n",
       "      <td>165</td>\n",
       "      <td>75200.0</td>\n",
       "    </tr>\n",
       "  </tbody>\n",
       "</table>\n",
       "</div>"
      ],
      "text/plain": [
       "  prenom                                   email date_naissance    pays  \\\n",
       "3   Marc  marco23@example.com, mc23@supermail.eu     10/02/1978  France   \n",
       "\n",
       "   taille    poids  \n",
       "3     165  75200.0  "
      ]
     },
     "execution_count": 90,
     "metadata": {},
     "output_type": "execute_result"
    }
   ],
   "source": [
    "nb_emails = moy_poids\n",
    "\n",
    "def count_emails(value: str):\n",
    "\treturn value.count('@')\n",
    "\n",
    "nb_emails_col = nb_emails['email'].apply(count_emails)\n",
    "\n",
    "nb_emails[nb_emails_col > 1]"
   ]
  },
  {
   "cell_type": "markdown",
   "metadata": {},
   "source": [
    "#### Q5.2. Conservez uniquement la dernière valeur. Veillez à ne pas faire un code ad-hoc et ne pas corriger manuellement la ligne."
   ]
  },
  {
   "cell_type": "code",
   "execution_count": 91,
   "metadata": {},
   "outputs": [
    {
     "data": {
      "text/html": [
       "<div>\n",
       "<style scoped>\n",
       "    .dataframe tbody tr th:only-of-type {\n",
       "        vertical-align: middle;\n",
       "    }\n",
       "\n",
       "    .dataframe tbody tr th {\n",
       "        vertical-align: top;\n",
       "    }\n",
       "\n",
       "    .dataframe thead th {\n",
       "        text-align: right;\n",
       "    }\n",
       "</style>\n",
       "<table border=\"1\" class=\"dataframe\">\n",
       "  <thead>\n",
       "    <tr style=\"text-align: right;\">\n",
       "      <th></th>\n",
       "      <th>prenom</th>\n",
       "      <th>email</th>\n",
       "      <th>date_naissance</th>\n",
       "      <th>pays</th>\n",
       "      <th>taille</th>\n",
       "      <th>poids</th>\n",
       "    </tr>\n",
       "  </thead>\n",
       "  <tbody>\n",
       "    <tr>\n",
       "      <th>0</th>\n",
       "      <td>Leila</td>\n",
       "      <td>leila@example.com</td>\n",
       "      <td>23/01/1990</td>\n",
       "      <td>France</td>\n",
       "      <td>149</td>\n",
       "      <td>65000.000000</td>\n",
       "    </tr>\n",
       "    <tr>\n",
       "      <th>1</th>\n",
       "      <td>Samuel</td>\n",
       "      <td>samuel_329@example.com</td>\n",
       "      <td>20/09/2001</td>\n",
       "      <td>NaN</td>\n",
       "      <td>167</td>\n",
       "      <td>88400.000000</td>\n",
       "    </tr>\n",
       "    <tr>\n",
       "      <th>2</th>\n",
       "      <td>Radia</td>\n",
       "      <td>choupipoune@supermail.eu</td>\n",
       "      <td>12 Sept. 1984</td>\n",
       "      <td>Côte d'ivoire</td>\n",
       "      <td>153</td>\n",
       "      <td>68000.000000</td>\n",
       "    </tr>\n",
       "    <tr>\n",
       "      <th>3</th>\n",
       "      <td>Marc</td>\n",
       "      <td>mc23@supermail.eu</td>\n",
       "      <td>10/02/1978</td>\n",
       "      <td>France</td>\n",
       "      <td>165</td>\n",
       "      <td>75200.000000</td>\n",
       "    </tr>\n",
       "    <tr>\n",
       "      <th>4</th>\n",
       "      <td>Heri</td>\n",
       "      <td>helloworld@supermail.eu</td>\n",
       "      <td>05/03/2008</td>\n",
       "      <td>Madagascar</td>\n",
       "      <td>134</td>\n",
       "      <td>72833.333333</td>\n",
       "    </tr>\n",
       "    <tr>\n",
       "      <th>5</th>\n",
       "      <td>Hanna</td>\n",
       "      <td>hanna2019@supermail.eu</td>\n",
       "      <td>01/01/1970</td>\n",
       "      <td>NaN</td>\n",
       "      <td>345</td>\n",
       "      <td>70200.000000</td>\n",
       "    </tr>\n",
       "    <tr>\n",
       "      <th>6</th>\n",
       "      <td>samuël</td>\n",
       "      <td>samuel_329@example.com</td>\n",
       "      <td>NaN</td>\n",
       "      <td>Bénin</td>\n",
       "      <td>145</td>\n",
       "      <td>70200.000000</td>\n",
       "    </tr>\n",
       "  </tbody>\n",
       "</table>\n",
       "</div>"
      ],
      "text/plain": [
       "   prenom                     email date_naissance           pays  taille  \\\n",
       "0   Leila         leila@example.com     23/01/1990         France     149   \n",
       "1  Samuel    samuel_329@example.com     20/09/2001            NaN     167   \n",
       "2   Radia  choupipoune@supermail.eu  12 Sept. 1984  Côte d'ivoire     153   \n",
       "3    Marc         mc23@supermail.eu     10/02/1978         France     165   \n",
       "4    Heri   helloworld@supermail.eu     05/03/2008     Madagascar     134   \n",
       "5   Hanna    hanna2019@supermail.eu     01/01/1970            NaN     345   \n",
       "6  samuël    samuel_329@example.com            NaN          Bénin     145   \n",
       "\n",
       "          poids  \n",
       "0  65000.000000  \n",
       "1  88400.000000  \n",
       "2  68000.000000  \n",
       "3  75200.000000  \n",
       "4  72833.333333  \n",
       "5  70200.000000  \n",
       "6  70200.000000  "
      ]
     },
     "execution_count": 91,
     "metadata": {},
     "output_type": "execute_result"
    }
   ],
   "source": [
    "corrected_email = nb_emails\n",
    "\n",
    "def fix_email(value: str):\n",
    "\tif ', ' in value:\n",
    "\t\treturn value.split(', ')[1]\n",
    "\treturn value\n",
    "\t\n",
    "\n",
    "corrected_email['email'] = corrected_email['email'].apply(fix_email)\n",
    "\n",
    "corrected_email"
   ]
  },
  {
   "cell_type": "markdown",
   "metadata": {},
   "source": [
    "#### Q5.3. On peut également constater que toutes les dates ne respectent pas le même format. Il convient de régler la question. Il faut procéder en deux fois:\n",
    "- créez une nouvelle colonne naiss en faisant une conversion selon un premier format (%d/%m/%Y par exemple)\n",
    "grâce à la méthode pd.to_datetime(...), en spécifiant ce format et en écartant les échecs (comme pour les\n",
    "poids) par l’option errors;\n",
    "- refaites une conversion selon un autre format (%d %b. %Y en l’occurrence) pour les valeurs nulles de cette\n",
    "nouvelle colonne.\n"
   ]
  },
  {
   "cell_type": "code",
   "execution_count": 92,
   "metadata": {},
   "outputs": [
    {
     "data": {
      "text/plain": [
       "0   1990-01-23\n",
       "1   2001-09-20\n",
       "2   1984-09-12\n",
       "3   1978-10-02\n",
       "4   2008-05-03\n",
       "5   1970-01-01\n",
       "6          NaT\n",
       "Name: date_naissance, dtype: datetime64[ns]"
      ]
     },
     "execution_count": 92,
     "metadata": {},
     "output_type": "execute_result"
    }
   ],
   "source": [
    "with_naissance = corrected_email\n",
    "\n",
    "\n",
    "naissance_col = pd.to_datetime(with_naissance['date_naissance'], errors='coerce', format='mixed')\n",
    "\n",
    "naissance_col\n"
   ]
  },
  {
   "cell_type": "markdown",
   "metadata": {},
   "source": [
    "#### Q5.4. Terminez proprement en remplaçant l’ancienne colonne par la nouvelle, contenant les mêmes dates mais qui respectent un même format et sont donc exploitables."
   ]
  },
  {
   "cell_type": "code",
   "execution_count": 93,
   "metadata": {},
   "outputs": [
    {
     "name": "stdout",
     "output_type": "stream",
     "text": [
      "   prenom                     email date_naissance           pays  taille  \\\n",
      "0   Leila         leila@example.com     1990-01-23         France     149   \n",
      "1  Samuel    samuel_329@example.com     2001-09-20            NaN     167   \n",
      "2   Radia  choupipoune@supermail.eu     1984-09-12  Côte d'ivoire     153   \n",
      "3    Marc         mc23@supermail.eu     1978-10-02         France     165   \n",
      "4    Heri   helloworld@supermail.eu     2008-05-03     Madagascar     134   \n",
      "5   Hanna    hanna2019@supermail.eu     1970-01-01            NaN     345   \n",
      "6  samuël    samuel_329@example.com            NaT          Bénin     145   \n",
      "\n",
      "          poids  \n",
      "0  65000.000000  \n",
      "1  88400.000000  \n",
      "2  68000.000000  \n",
      "3  75200.000000  \n",
      "4  72833.333333  \n",
      "5  70200.000000  \n",
      "6  70200.000000  \n"
     ]
    }
   ],
   "source": [
    "with_naissance['date_naissance'] = naissance_col\n",
    "\n",
    "print(with_naissance)"
   ]
  },
  {
   "cell_type": "markdown",
   "metadata": {},
   "source": [
    "#### Q6. Intéressons-nous enfin au cas des doublons."
   ]
  },
  {
   "cell_type": "markdown",
   "metadata": {},
   "source": [
    "#### Q6.1. Affichez les lignes en doublons, d’après leur courriel."
   ]
  },
  {
   "cell_type": "code",
   "execution_count": 94,
   "metadata": {},
   "outputs": [
    {
     "data": {
      "text/html": [
       "<div>\n",
       "<style scoped>\n",
       "    .dataframe tbody tr th:only-of-type {\n",
       "        vertical-align: middle;\n",
       "    }\n",
       "\n",
       "    .dataframe tbody tr th {\n",
       "        vertical-align: top;\n",
       "    }\n",
       "\n",
       "    .dataframe thead th {\n",
       "        text-align: right;\n",
       "    }\n",
       "</style>\n",
       "<table border=\"1\" class=\"dataframe\">\n",
       "  <thead>\n",
       "    <tr style=\"text-align: right;\">\n",
       "      <th></th>\n",
       "      <th>prenom</th>\n",
       "      <th>email</th>\n",
       "      <th>date_naissance</th>\n",
       "      <th>pays</th>\n",
       "      <th>taille</th>\n",
       "      <th>poids</th>\n",
       "    </tr>\n",
       "  </thead>\n",
       "  <tbody>\n",
       "    <tr>\n",
       "      <th>1</th>\n",
       "      <td>Samuel</td>\n",
       "      <td>samuel_329@example.com</td>\n",
       "      <td>2001-09-20</td>\n",
       "      <td>NaN</td>\n",
       "      <td>167</td>\n",
       "      <td>88400.0</td>\n",
       "    </tr>\n",
       "    <tr>\n",
       "      <th>6</th>\n",
       "      <td>samuël</td>\n",
       "      <td>samuel_329@example.com</td>\n",
       "      <td>NaT</td>\n",
       "      <td>Bénin</td>\n",
       "      <td>145</td>\n",
       "      <td>70200.0</td>\n",
       "    </tr>\n",
       "  </tbody>\n",
       "</table>\n",
       "</div>"
      ],
      "text/plain": [
       "   prenom                   email date_naissance   pays  taille    poids\n",
       "1  Samuel  samuel_329@example.com     2001-09-20    NaN     167  88400.0\n",
       "6  samuël  samuel_329@example.com            NaT  Bénin     145  70200.0"
      ]
     },
     "execution_count": 94,
     "metadata": {},
     "output_type": "execute_result"
    }
   ],
   "source": [
    "duplicates_col = with_naissance.duplicated(['email'], keep=False)\n",
    "\n",
    "with_naissance[duplicates_col]"
   ]
  },
  {
   "cell_type": "markdown",
   "metadata": {},
   "source": [
    "#### Q6.2. Vous pouvez constater que chacune des lignes apportent son lot d’information. Il faut consolider tout ça en complétant la première occurence avec les informations supplémentaires fournies par les autres occurences. En cas de valeurs incohérentes, on affectera la moyenne des valeurs existantes."
   ]
  },
  {
   "cell_type": "code",
   "execution_count": 95,
   "metadata": {},
   "outputs": [
    {
     "data": {
      "text/html": [
       "<div>\n",
       "<style scoped>\n",
       "    .dataframe tbody tr th:only-of-type {\n",
       "        vertical-align: middle;\n",
       "    }\n",
       "\n",
       "    .dataframe tbody tr th {\n",
       "        vertical-align: top;\n",
       "    }\n",
       "\n",
       "    .dataframe thead th {\n",
       "        text-align: right;\n",
       "    }\n",
       "</style>\n",
       "<table border=\"1\" class=\"dataframe\">\n",
       "  <thead>\n",
       "    <tr style=\"text-align: right;\">\n",
       "      <th></th>\n",
       "      <th>prenom</th>\n",
       "      <th>email</th>\n",
       "      <th>date_naissance</th>\n",
       "      <th>pays</th>\n",
       "      <th>taille</th>\n",
       "      <th>poids</th>\n",
       "    </tr>\n",
       "  </thead>\n",
       "  <tbody>\n",
       "    <tr>\n",
       "      <th>0</th>\n",
       "      <td>Leila</td>\n",
       "      <td>leila@example.com</td>\n",
       "      <td>1990-01-23</td>\n",
       "      <td>France</td>\n",
       "      <td>149</td>\n",
       "      <td>65000.000000</td>\n",
       "    </tr>\n",
       "    <tr>\n",
       "      <th>1</th>\n",
       "      <td>Samuel</td>\n",
       "      <td>samuel_329@example.com</td>\n",
       "      <td>2001-09-20</td>\n",
       "      <td>Bénin</td>\n",
       "      <td>167</td>\n",
       "      <td>79300.000000</td>\n",
       "    </tr>\n",
       "    <tr>\n",
       "      <th>2</th>\n",
       "      <td>Radia</td>\n",
       "      <td>choupipoune@supermail.eu</td>\n",
       "      <td>1984-09-12</td>\n",
       "      <td>Côte d'ivoire</td>\n",
       "      <td>153</td>\n",
       "      <td>68000.000000</td>\n",
       "    </tr>\n",
       "    <tr>\n",
       "      <th>3</th>\n",
       "      <td>Marc</td>\n",
       "      <td>mc23@supermail.eu</td>\n",
       "      <td>1978-10-02</td>\n",
       "      <td>France</td>\n",
       "      <td>165</td>\n",
       "      <td>75200.000000</td>\n",
       "    </tr>\n",
       "    <tr>\n",
       "      <th>4</th>\n",
       "      <td>Heri</td>\n",
       "      <td>helloworld@supermail.eu</td>\n",
       "      <td>2008-05-03</td>\n",
       "      <td>Madagascar</td>\n",
       "      <td>134</td>\n",
       "      <td>72833.333333</td>\n",
       "    </tr>\n",
       "    <tr>\n",
       "      <th>5</th>\n",
       "      <td>Hanna</td>\n",
       "      <td>hanna2019@supermail.eu</td>\n",
       "      <td>1970-01-01</td>\n",
       "      <td>NaN</td>\n",
       "      <td>345</td>\n",
       "      <td>70200.000000</td>\n",
       "    </tr>\n",
       "    <tr>\n",
       "      <th>6</th>\n",
       "      <td>samuël</td>\n",
       "      <td>samuel_329@example.com</td>\n",
       "      <td>NaT</td>\n",
       "      <td>Bénin</td>\n",
       "      <td>145</td>\n",
       "      <td>70200.000000</td>\n",
       "    </tr>\n",
       "  </tbody>\n",
       "</table>\n",
       "</div>"
      ],
      "text/plain": [
       "   prenom                     email date_naissance           pays  taille  \\\n",
       "0   Leila         leila@example.com     1990-01-23         France     149   \n",
       "1  Samuel    samuel_329@example.com     2001-09-20          Bénin     167   \n",
       "2   Radia  choupipoune@supermail.eu     1984-09-12  Côte d'ivoire     153   \n",
       "3    Marc         mc23@supermail.eu     1978-10-02         France     165   \n",
       "4    Heri   helloworld@supermail.eu     2008-05-03     Madagascar     134   \n",
       "5   Hanna    hanna2019@supermail.eu     1970-01-01            NaN     345   \n",
       "6  samuël    samuel_329@example.com            NaT          Bénin     145   \n",
       "\n",
       "          poids  \n",
       "0  65000.000000  \n",
       "1  79300.000000  \n",
       "2  68000.000000  \n",
       "3  75200.000000  \n",
       "4  72833.333333  \n",
       "5  70200.000000  \n",
       "6  70200.000000  "
      ]
     },
     "execution_count": 95,
     "metadata": {},
     "output_type": "execute_result"
    }
   ],
   "source": [
    "# affecter le pays du doublon2 au doublon1\n",
    "corrected_duplicate = with_naissance\n",
    "\n",
    "corrected_duplicate.loc[1, 'pays'] = 'Bénin'\n",
    "corrected_duplicate.loc[1, 'poids'] = (88400.0 + 70200.0) / 2\n",
    "\n",
    "corrected_duplicate\n"
   ]
  },
  {
   "cell_type": "markdown",
   "metadata": {},
   "source": [
    "#### Q6.3. Supprimez les doublons en conservant la première occurence, qui contient désormais les données aggrégées."
   ]
  },
  {
   "cell_type": "code",
   "execution_count": 96,
   "metadata": {},
   "outputs": [
    {
     "data": {
      "text/html": [
       "<div>\n",
       "<style scoped>\n",
       "    .dataframe tbody tr th:only-of-type {\n",
       "        vertical-align: middle;\n",
       "    }\n",
       "\n",
       "    .dataframe tbody tr th {\n",
       "        vertical-align: top;\n",
       "    }\n",
       "\n",
       "    .dataframe thead th {\n",
       "        text-align: right;\n",
       "    }\n",
       "</style>\n",
       "<table border=\"1\" class=\"dataframe\">\n",
       "  <thead>\n",
       "    <tr style=\"text-align: right;\">\n",
       "      <th></th>\n",
       "      <th>prenom</th>\n",
       "      <th>email</th>\n",
       "      <th>date_naissance</th>\n",
       "      <th>pays</th>\n",
       "      <th>taille</th>\n",
       "      <th>poids</th>\n",
       "    </tr>\n",
       "  </thead>\n",
       "  <tbody>\n",
       "    <tr>\n",
       "      <th>0</th>\n",
       "      <td>Leila</td>\n",
       "      <td>leila@example.com</td>\n",
       "      <td>1990-01-23</td>\n",
       "      <td>France</td>\n",
       "      <td>149</td>\n",
       "      <td>65000.000000</td>\n",
       "    </tr>\n",
       "    <tr>\n",
       "      <th>1</th>\n",
       "      <td>Samuel</td>\n",
       "      <td>samuel_329@example.com</td>\n",
       "      <td>2001-09-20</td>\n",
       "      <td>Bénin</td>\n",
       "      <td>167</td>\n",
       "      <td>79300.000000</td>\n",
       "    </tr>\n",
       "    <tr>\n",
       "      <th>2</th>\n",
       "      <td>Radia</td>\n",
       "      <td>choupipoune@supermail.eu</td>\n",
       "      <td>1984-09-12</td>\n",
       "      <td>Côte d'ivoire</td>\n",
       "      <td>153</td>\n",
       "      <td>68000.000000</td>\n",
       "    </tr>\n",
       "    <tr>\n",
       "      <th>3</th>\n",
       "      <td>Marc</td>\n",
       "      <td>mc23@supermail.eu</td>\n",
       "      <td>1978-10-02</td>\n",
       "      <td>France</td>\n",
       "      <td>165</td>\n",
       "      <td>75200.000000</td>\n",
       "    </tr>\n",
       "    <tr>\n",
       "      <th>4</th>\n",
       "      <td>Heri</td>\n",
       "      <td>helloworld@supermail.eu</td>\n",
       "      <td>2008-05-03</td>\n",
       "      <td>Madagascar</td>\n",
       "      <td>134</td>\n",
       "      <td>72833.333333</td>\n",
       "    </tr>\n",
       "    <tr>\n",
       "      <th>5</th>\n",
       "      <td>Hanna</td>\n",
       "      <td>hanna2019@supermail.eu</td>\n",
       "      <td>1970-01-01</td>\n",
       "      <td>NaN</td>\n",
       "      <td>345</td>\n",
       "      <td>70200.000000</td>\n",
       "    </tr>\n",
       "  </tbody>\n",
       "</table>\n",
       "</div>"
      ],
      "text/plain": [
       "   prenom                     email date_naissance           pays  taille  \\\n",
       "0   Leila         leila@example.com     1990-01-23         France     149   \n",
       "1  Samuel    samuel_329@example.com     2001-09-20          Bénin     167   \n",
       "2   Radia  choupipoune@supermail.eu     1984-09-12  Côte d'ivoire     153   \n",
       "3    Marc         mc23@supermail.eu     1978-10-02         France     165   \n",
       "4    Heri   helloworld@supermail.eu     2008-05-03     Madagascar     134   \n",
       "5   Hanna    hanna2019@supermail.eu     1970-01-01            NaN     345   \n",
       "\n",
       "          poids  \n",
       "0  65000.000000  \n",
       "1  79300.000000  \n",
       "2  68000.000000  \n",
       "3  75200.000000  \n",
       "4  72833.333333  \n",
       "5  70200.000000  "
      ]
     },
     "execution_count": 96,
     "metadata": {},
     "output_type": "execute_result"
    }
   ],
   "source": [
    "corrected_duplicate = corrected_duplicate.drop_duplicates(subset=['email'])\n",
    "\n",
    "corrected_duplicate"
   ]
  }
 ],
 "metadata": {
  "kernelspec": {
   "display_name": "tp_mm",
   "language": "python",
   "name": "python3"
  },
  "language_info": {
   "codemirror_mode": {
    "name": "ipython",
    "version": 3
   },
   "file_extension": ".py",
   "mimetype": "text/x-python",
   "name": "python",
   "nbconvert_exporter": "python",
   "pygments_lexer": "ipython3",
   "version": "3.11.5"
  }
 },
 "nbformat": 4,
 "nbformat_minor": 2
}
